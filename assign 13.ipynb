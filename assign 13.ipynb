{
 "cells": [
  {
   "cell_type": "code",
   "execution_count": 1,
   "id": "d0cf84ea-9a0c-4afb-9261-484413f096e2",
   "metadata": {},
   "outputs": [
    {
     "name": "stdout",
     "output_type": "stream",
     "text": [
      "The sum of numbers between 1 and 5 is: 15\n",
      "The sum of numbers between 10 and 15 is: 75\n"
     ]
    }
   ],
   "source": [
    "def sum_between(start, end):\n",
    "    if start > end:\n",
    "        return 0\n",
    "    return start + sum_between(start + 1, end)\n",
    "\n",
    "start_num = 1\n",
    "end_num = 5\n",
    "print(f\"The sum of numbers between {start_num} and {end_num} is: {sum_between(start_num, end_num)}\")\n",
    "\n",
    "start_num = 10\n",
    "end_num = 15\n",
    "print(f\"The sum of numbers between {start_num} and {end_num} is: {sum_between(start_num, end_num)}\")\n"
   ]
  },
  {
   "cell_type": "code",
   "execution_count": null,
   "id": "169cc735-b2a9-4108-a18b-7346a46fb544",
   "metadata": {},
   "outputs": [],
   "source": []
  }
 ],
 "metadata": {
  "kernelspec": {
   "display_name": "Python 3 (ipykernel)",
   "language": "python",
   "name": "python3"
  },
  "language_info": {
   "codemirror_mode": {
    "name": "ipython",
    "version": 3
   },
   "file_extension": ".py",
   "mimetype": "text/x-python",
   "name": "python",
   "nbconvert_exporter": "python",
   "pygments_lexer": "ipython3",
   "version": "3.12.4"
  }
 },
 "nbformat": 4,
 "nbformat_minor": 5
}
