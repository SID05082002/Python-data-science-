{
 "cells": [
  {
   "cell_type": "code",
   "execution_count": null,
   "id": "ff08c130-1d48-4887-b453-28bc4c6e81b6",
   "metadata": {},
   "outputs": [],
   "source": []
  }
 ],
 "metadata": {
  "kernelspec": {
   "display_name": "",
   "name": ""
  },
  "language_info": {
   "name": ""
  }
 },
 "nbformat": 4,
 "nbformat_minor": 5
}
