{
 "cells": [
  {
   "cell_type": "code",
   "execution_count": 3,
   "id": "825d79ee-7b1b-4244-a3ba-f6b5e27c1e08",
   "metadata": {},
   "outputs": [
    {
     "name": "stdin",
     "output_type": "stream",
     "text": [
      "enter data into demo file file handling welcome\n"
     ]
    }
   ],
   "source": [
    "##open a file \n",
    "fp=open('demo.txt','a')# formely it was w for writing \n",
    "msg=input(\"enter data into demo file\")\n",
    "fp.write(msg)\n",
    "fp.close()"
   ]
  },
  {
   "cell_type": "code",
   "execution_count": 6,
   "id": "bcc22843-664e-490d-b55a-746e0e330032",
   "metadata": {},
   "outputs": [],
   "source": [
    "import shutil \n",
    "fp=open('file1.text','r')\n",
    "#data=input(\"enter any data\")\n",
    "#fp.write(data)\n",
    "fp1=open(\"file2_copy.txt\",'w')\n",
    "shutil.copy(\"file1.text\",'file2_copy.txt')\n",
    "shutil.copyfileobj(fp,fp1)\n",
    "fp.close()\n",
    "fp1.close()"
   ]
  },
  {
   "cell_type": "code",
   "execution_count": null,
   "id": "a0d52b2f-1360-4d43-b72f-f46658e51551",
   "metadata": {},
   "outputs": [],
   "source": []
  }
 ],
 "metadata": {
  "kernelspec": {
   "display_name": "Python 3 (ipykernel)",
   "language": "python",
   "name": "python3"
  },
  "language_info": {
   "codemirror_mode": {
    "name": "ipython",
    "version": 3
   },
   "file_extension": ".py",
   "mimetype": "text/x-python",
   "name": "python",
   "nbconvert_exporter": "python",
   "pygments_lexer": "ipython3",
   "version": "3.12.4"
  }
 },
 "nbformat": 4,
 "nbformat_minor": 5
}
