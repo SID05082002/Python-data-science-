{
 "cells": [
  {
   "cell_type": "code",
   "execution_count": 3,
   "id": "f6c242c7-3963-4b05-8b23-41bd309b0c8a",
   "metadata": {},
   "outputs": [
    {
     "name": "stdout",
     "output_type": "stream",
     "text": [
      "the factorial of 3 is 6\n"
     ]
    }
   ],
   "source": [
    "def recursive_factorial(x):\n",
    "    if x==1:\n",
    "        return 1\n",
    "    else:\n",
    "        return(x*recursive_factorial(x-1))\n",
    "num=3\n",
    "print(\"the factorial of\",num,\"is\",recursive_factorial(num))"
   ]
  },
  {
   "cell_type": "code",
   "execution_count": 6,
   "id": "229b6706-c45d-485b-9918-77e21c69f10d",
   "metadata": {},
   "outputs": [
    {
     "name": "stdin",
     "output_type": "stream",
     "text": [
      "enter your no 5\n"
     ]
    },
    {
     "name": "stdout",
     "output_type": "stream",
     "text": [
      "15\n"
     ]
    }
   ],
   "source": [
    "num=lambda a:a+10\n",
    "x=int(input(\"enter your no\"))\n",
    "print(num(x))"
   ]
  },
  {
   "cell_type": "code",
   "execution_count": 7,
   "id": "a8c99420-0970-4b7e-975d-c2781e84219b",
   "metadata": {},
   "outputs": [
    {
     "name": "stdout",
     "output_type": "stream",
     "text": [
      "we are calling class attributes now\n",
      "circle radius 3\n",
      "circle diameter 6\n",
      "printing method now\n",
      "Area of circle is 28.259999999999998\n"
     ]
    }
   ],
   "source": [
    "class shape_circle:\n",
    "    radius=3\n",
    "    diameter=6\n",
    "    def area_circle():\n",
    "        a=3.14*3*3\n",
    "        print(\"Area of circle is\",a)\n",
    "\n",
    "print(\"we are calling class attributes now\")\n",
    "r=shape_circle()\n",
    "print(\"circle radius\",r.radius)\n",
    "print(\"circle diameter\",r.diameter)\n",
    "print(\"printing method now\")\n",
    "shape_circle.area_circle()"
   ]
  },
  {
   "cell_type": "code",
   "execution_count": 17,
   "id": "e8087b75-50cc-47dc-aab4-e7f781b1e0f1",
   "metadata": {},
   "outputs": [
    {
     "name": "stdin",
     "output_type": "stream",
     "text": [
      "enter your name anil\n",
      "enter your age 21\n"
     ]
    },
    {
     "name": "stdout",
     "output_type": "stream",
     "text": [
      "name of the student anil\n",
      "age of the students 21\n"
     ]
    },
    {
     "name": "stdin",
     "output_type": "stream",
     "text": [
      "enter your marks 211\n"
     ]
    },
    {
     "name": "stdout",
     "output_type": "stream",
     "text": [
      "percentage of student is 42.199999999999996 %\n"
     ]
    }
   ],
   "source": [
    "class student:\n",
    "    name=str(input(\"enter your name\"))\n",
    "    age=int(input(\"enter your age\"))\n",
    "    \n",
    "    def percentage():\n",
    "        marks=int(input(\"enter your marks\"))\n",
    "        per=marks/500*100\n",
    "        print(\"percentage of student is\",per,\"%\")\n",
    "\n",
    "s1=student()\n",
    "print(\"name of the student\",s1.name)\n",
    "print(\"age of the students\",s1.age)\n",
    "#print(\"marks of students\",s1.marks)\n",
    "student.percentage()\n",
    "        \n",
    "    "
   ]
  },
  {
   "cell_type": "code",
   "execution_count": null,
   "id": "51afb13a-b47b-4453-bff2-16de4b10a80b",
   "metadata": {},
   "outputs": [],
   "source": []
  }
 ],
 "metadata": {
  "kernelspec": {
   "display_name": "Python 3 (ipykernel)",
   "language": "python",
   "name": "python3"
  },
  "language_info": {
   "codemirror_mode": {
    "name": "ipython",
    "version": 3
   },
   "file_extension": ".py",
   "mimetype": "text/x-python",
   "name": "python",
   "nbconvert_exporter": "python",
   "pygments_lexer": "ipython3",
   "version": "3.12.4"
  }
 },
 "nbformat": 4,
 "nbformat_minor": 5
}
