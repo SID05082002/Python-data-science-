{
 "cells": [
  {
   "cell_type": "code",
   "execution_count": 1,
   "id": "eac30e84-6dda-4cb8-a7bf-d888fd7995e7",
   "metadata": {},
   "outputs": [
    {
     "name": "stdout",
     "output_type": "stream",
     "text": [
      "Brand: Maruti\n",
      "Model: Alto\n",
      "Year: 2022\n",
      "speed up ...\n",
      "Brand: AAA\n",
      "Model: BBB\n",
      "Year: 2024\n",
      "Available\n",
      "speed up ...\n",
      "Car stop\n"
     ]
    }
   ],
   "source": [
    "# Import required modules \n",
    "from abc import ABC, abstractmethod \n",
    "\n",
    "# Create Abstract base class \n",
    "class Car(ABC):\n",
    "    def __init__(self, brand, model, year): \n",
    "\t       self.brand = brand \n",
    "\t       self.model = model \n",
    "\t       self.year = year \n",
    "\t\n",
    "# Create abstract method\t \n",
    "    @abstractmethod\n",
    "    def printDetails(self): \n",
    "        pass\n",
    "\t\n",
    "# Create concrete method \n",
    "    def accelerate(self): \n",
    "        print(\"speed up ...\") \n",
    "\t\n",
    "    def break_applied(self): \n",
    "        print(\"Car stop\")\n",
    "# Create a child class \n",
    "class Hatchback(Car):\n",
    "    def printDetails(self):\n",
    "        print(\"Brand:\", self.brand)\n",
    "        print(\"Model:\", self.model) \n",
    "        print(\"Year:\", self.year)\n",
    "\t\n",
    "    def Sunroof(self): \n",
    "        print(\"Not having this feature\")\n",
    "# Create a child class \n",
    "class Suv(Car): \n",
    "    def printDetails(self): \n",
    "        print(\"Brand:\", self.brand)\n",
    "        print(\"Model:\", self.model) \n",
    "        print(\"Year:\", self.year)\n",
    "\t\n",
    "    def Sunroof(self): \n",
    "        print(\"Available\")\n",
    "car1 = Hatchback(\"Maruti\", \"Alto\", \"2022\")\n",
    "car1.printDetails() \n",
    "car1.accelerate() \n",
    "\n",
    "car2= Suv(\"AAA\",\"BBB\",2024)\n",
    "car2.printDetails()   # calling from Suv class\n",
    "car2.Sunroof()        # calling from suv class\n",
    "car2.accelerate()     # calling from base class\n",
    "car2.break_applied()  # calling from base class"
   ]
  },
  {
   "cell_type": "code",
   "execution_count": null,
   "id": "36a710dc-f337-4f53-8c5c-75e20f488594",
   "metadata": {},
   "outputs": [],
   "source": []
  }
 ],
 "metadata": {
  "kernelspec": {
   "display_name": "Python 3 (ipykernel)",
   "language": "python",
   "name": "python3"
  },
  "language_info": {
   "codemirror_mode": {
    "name": "ipython",
    "version": 3
   },
   "file_extension": ".py",
   "mimetype": "text/x-python",
   "name": "python",
   "nbconvert_exporter": "python",
   "pygments_lexer": "ipython3",
   "version": "3.12.4"
  }
 },
 "nbformat": 4,
 "nbformat_minor": 5
}
