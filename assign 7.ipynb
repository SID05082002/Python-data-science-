{
 "cells": [
  {
   "cell_type": "code",
   "execution_count": 2,
   "id": "5728b48d-a2ab-4f85-8f01-f877569ee7cf",
   "metadata": {},
   "outputs": [
    {
     "name": "stdout",
     "output_type": "stream",
     "text": [
      "{'emp1': {'name': 'Jhon', 'salary': 75000}, 'emp2': {'name': 'Emma', 'salary': 80000}, 'emp3': {'name': 'Brad', 'salary': 85000}}\n"
     ]
    }
   ],
   "source": [
    "sample_dict = {\n",
    "    'emp1': {'name': 'Jhon', 'salary': 75000},\n",
    "    'emp2': {'name': 'Emma', 'salary': 80000},\n",
    "    'emp3': {'name': 'Brad', 'salary': 500}\n",
    "}\n",
    "\n",
    "for emp in sample_dict.values():\n",
    "    if emp['name']==\"Brad\":\n",
    "        emp['salary']=85000\n",
    "\n",
    "print(sample_dict)"
   ]
  },
  {
   "cell_type": "code",
   "execution_count": null,
   "id": "4d0b0502-6d93-4ad2-a21c-0835759f014e",
   "metadata": {},
   "outputs": [],
   "source": []
  }
 ],
 "metadata": {
  "kernelspec": {
   "display_name": "Python 3 (ipykernel)",
   "language": "python",
   "name": "python3"
  },
  "language_info": {
   "codemirror_mode": {
    "name": "ipython",
    "version": 3
   },
   "file_extension": ".py",
   "mimetype": "text/x-python",
   "name": "python",
   "nbconvert_exporter": "python",
   "pygments_lexer": "ipython3",
   "version": "3.12.4"
  }
 },
 "nbformat": 4,
 "nbformat_minor": 5
}
