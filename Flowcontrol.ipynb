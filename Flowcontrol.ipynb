{
 "cells": [
  {
   "cell_type": "code",
   "execution_count": null,
   "id": "a9ec8b46-9f9c-4e25-9e39-f17318ec9036",
   "metadata": {},
   "outputs": [],
   "source": [
    "operator "
   ]
  },
  {
   "cell_type": "code",
   "execution_count": null,
   "id": "d00776ce-d0b1-451e-83fc-247548b9be2f",
   "metadata": {},
   "outputs": [],
   "source": [
    "x=30"
   ]
  },
  {
   "cell_type": "code",
   "execution_count": null,
   "id": "165c2fcc-73ee-407e-ba72-1482677ad502",
   "metadata": {},
   "outputs": [],
   "source": [
    "x==30"
   ]
  },
  {
   "cell_type": "code",
   "execution_count": null,
   "id": "68f90361-2c6a-4505-808e-01b5ddfc7e72",
   "metadata": {},
   "outputs": [],
   "source": []
  },
  {
   "cell_type": "code",
   "execution_count": 1,
   "id": "ad05900b-d251-460b-b06e-dac2b519264e",
   "metadata": {},
   "outputs": [
    {
     "ename": "NameError",
     "evalue": "name 'x' is not defined",
     "output_type": "error",
     "traceback": [
      "\u001b[1;31m---------------------------------------------------------------------------\u001b[0m",
      "\u001b[1;31mNameError\u001b[0m                                 Traceback (most recent call last)",
      "Cell \u001b[1;32mIn[1], line 1\u001b[0m\n\u001b[1;32m----> 1\u001b[0m \u001b[43mx\u001b[49m\u001b[38;5;241m<\u001b[39m\u001b[38;5;241m30\u001b[39m\n",
      "\u001b[1;31mNameError\u001b[0m: name 'x' is not defined"
     ]
    }
   ],
   "source": [
    "x<30\n"
   ]
  },
  {
   "cell_type": "code",
   "execution_count": 2,
   "id": "b4a1b148-d39b-4241-a543-2152d0e0f1a0",
   "metadata": {},
   "outputs": [],
   "source": [
    "x=30"
   ]
  },
  {
   "cell_type": "code",
   "execution_count": 3,
   "id": "01086250-0a1d-4dc8-a88c-984db0eb8d42",
   "metadata": {},
   "outputs": [
    {
     "data": {
      "text/plain": [
       "False"
      ]
     },
     "execution_count": 3,
     "metadata": {},
     "output_type": "execute_result"
    }
   ],
   "source": [
    "x>30"
   ]
  },
  {
   "cell_type": "code",
   "execution_count": 4,
   "id": "987dc253-420b-44bf-9f0d-2234bd6e2643",
   "metadata": {},
   "outputs": [
    {
     "data": {
      "text/plain": [
       "True"
      ]
     },
     "execution_count": 4,
     "metadata": {},
     "output_type": "execute_result"
    }
   ],
   "source": [
    "x<=30"
   ]
  },
  {
   "cell_type": "code",
   "execution_count": 5,
   "id": "985c3b24-bd50-46ca-8901-bea2a00dc7fb",
   "metadata": {},
   "outputs": [
    {
     "data": {
      "text/plain": [
       "True"
      ]
     },
     "execution_count": 5,
     "metadata": {},
     "output_type": "execute_result"
    }
   ],
   "source": [
    "x==30"
   ]
  },
  {
   "cell_type": "code",
   "execution_count": 6,
   "id": "abf4f093-9073-4717-9020-8bfde222571c",
   "metadata": {},
   "outputs": [
    {
     "data": {
      "text/plain": [
       "False"
      ]
     },
     "execution_count": 6,
     "metadata": {},
     "output_type": "execute_result"
    }
   ],
   "source": [
    "x!=30"
   ]
  },
  {
   "cell_type": "code",
   "execution_count": 7,
   "id": "60caac1f-1bde-4119-b7b7-962219ea21af",
   "metadata": {},
   "outputs": [
    {
     "ename": "SyntaxError",
     "evalue": "invalid syntax (3428098590.py, line 1)",
     "output_type": "error",
     "traceback": [
      "\u001b[1;36m  Cell \u001b[1;32mIn[7], line 1\u001b[1;36m\u001b[0m\n\u001b[1;33m    x<>30\u001b[0m\n\u001b[1;37m     ^\u001b[0m\n\u001b[1;31mSyntaxError\u001b[0m\u001b[1;31m:\u001b[0m invalid syntax\n"
     ]
    }
   ],
   "source": [
    "x<>30"
   ]
  },
  {
   "cell_type": "code",
   "execution_count": 8,
   "id": "47cccf90-cf50-4891-8160-75280e557784",
   "metadata": {},
   "outputs": [],
   "source": [
    "studentmarks=45.5"
   ]
  },
  {
   "cell_type": "code",
   "execution_count": 9,
   "id": "e6017ca5-ade7-4942-9150-bf22bd62dc8f",
   "metadata": {},
   "outputs": [
    {
     "data": {
      "text/plain": [
       "False"
      ]
     },
     "execution_count": 9,
     "metadata": {},
     "output_type": "execute_result"
    }
   ],
   "source": [
    "studentmarks<45"
   ]
  },
  {
   "cell_type": "code",
   "execution_count": 17,
   "id": "9ebe664e-8fb4-45e6-8571-6c3991eac3b2",
   "metadata": {},
   "outputs": [],
   "source": [
    "if studentmarks==45:\n",
    "    print(\"passed\")"
   ]
  },
  {
   "cell_type": "code",
   "execution_count": 18,
   "id": "ad07f0f8-a96e-4de2-974d-c32a3639f552",
   "metadata": {},
   "outputs": [
    {
     "name": "stdout",
     "output_type": "stream",
     "text": [
      "67\n"
     ]
    }
   ],
   "source": [
    "print(studentmarks)"
   ]
  },
  {
   "cell_type": "code",
   "execution_count": 21,
   "id": "0a7d5679-1adf-421d-8773-b4e1580ab970",
   "metadata": {},
   "outputs": [],
   "source": [
    "if studentmarks==45:\n",
    "    print(\"passed\")"
   ]
  },
  {
   "cell_type": "code",
   "execution_count": 26,
   "id": "6cad533b-61df-4a0a-9229-e80f184b0d0e",
   "metadata": {},
   "outputs": [
    {
     "name": "stdout",
     "output_type": "stream",
     "text": [
      "passed\n"
     ]
    }
   ],
   "source": [
    "if studentmarks>=45:\n",
    "    print(\"passed\")\n",
    "else:\n",
    "    print(\"better luck next time\")"
   ]
  },
  {
   "cell_type": "code",
   "execution_count": 27,
   "id": "087dcb81-1e1a-47a5-8afe-e3f39002c1c1",
   "metadata": {},
   "outputs": [
    {
     "name": "stdout",
     "output_type": "stream",
     "text": [
      "koper\n"
     ]
    }
   ],
   "source": [
    "if studentmarks>=45:\n",
    "    print(\"koper\")"
   ]
  },
  {
   "cell_type": "code",
   "execution_count": 30,
   "id": "11b09c78-50ba-4435-8d35-c210470fdabe",
   "metadata": {},
   "outputs": [
    {
     "name": "stdout",
     "output_type": "stream",
     "text": [
      "passed\n"
     ]
    }
   ],
   "source": [
    "if studentmarks<45:\n",
    "    print(\"failed\")\n",
    "elif studentmarks>45:\n",
    "    print(\"passed\")\n",
    "elif studentmarks==45:\n",
    "    print(\"passed with boundary\")\n",
    "    \n"
   ]
  },
  {
   "cell_type": "code",
   "execution_count": null,
   "id": "e8ed3bef-c97c-4686-9488-317fe5103feb",
   "metadata": {},
   "outputs": [],
   "source": []
  },
  {
   "cell_type": "code",
   "execution_count": null,
   "id": "b2f2ec3b-64a3-44d8-8232-1bb48bf0a403",
   "metadata": {},
   "outputs": [],
   "source": []
  }
 ],
 "metadata": {
  "kernelspec": {
   "display_name": "Python 3 (ipykernel)",
   "language": "python",
   "name": "python3"
  },
  "language_info": {
   "codemirror_mode": {
    "name": "ipython",
    "version": 3
   },
   "file_extension": ".py",
   "mimetype": "text/x-python",
   "name": "python",
   "nbconvert_exporter": "python",
   "pygments_lexer": "ipython3",
   "version": "3.12.4"
  }
 },
 "nbformat": 4,
 "nbformat_minor": 5
}
