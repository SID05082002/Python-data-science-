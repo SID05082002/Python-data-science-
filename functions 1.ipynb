{
 "cells": [
  {
   "cell_type": "code",
   "execution_count": 1,
   "id": "0c1ab91a-3a1b-40d5-a83b-5db26deabe23",
   "metadata": {},
   "outputs": [
    {
     "name": "stdout",
     "output_type": "stream",
     "text": [
      "welcome to python session\n",
      "we are out of function\n"
     ]
    }
   ],
   "source": [
    "def function_demo():\n",
    "    print(\"welcome to python session\")\n",
    "\n",
    "function_demo()\n",
    "print(\"we are out of function\")"
   ]
  },
  {
   "cell_type": "code",
   "execution_count": 3,
   "id": "66e9a40d-4eec-45ce-ae46-a417a8f40a6d",
   "metadata": {},
   "outputs": [
    {
     "name": "stdin",
     "output_type": "stream",
     "text": [
      "enter your name ---- heamp\n"
     ]
    },
    {
     "name": "stdout",
     "output_type": "stream",
     "text": [
      "heamp\n",
      "*****hello heamp ******!!!!\n",
      "we are out of the function now\n"
     ]
    }
   ],
   "source": [
    "def greet(name):\n",
    "    print(\"*****hello\",name,\"******!!!!\")\n",
    "\n",
    "x=str(input(\"enter your name ----\"))\n",
    "print(x)\n",
    "greet(x)\n",
    "print(\"we are out of the function now\")"
   ]
  },
  {
   "cell_type": "code",
   "execution_count": 7,
   "id": "26e37a8a-5275-4b81-9947-fa8bdd3cd52d",
   "metadata": {},
   "outputs": [
    {
     "name": "stdin",
     "output_type": "stream",
     "text": [
      "enter your no 10\n",
      "enter you no2 20\n"
     ]
    },
    {
     "name": "stdout",
     "output_type": "stream",
     "text": [
      "your answer is  30\n"
     ]
    }
   ],
   "source": [
    "def addition1(a,b):\n",
    "    y=a+b\n",
    "    print(\"your answer is \",y)\n",
    "\n",
    "x=int(input(\"enter your no\"))\n",
    "y=int(input(\"enter you no2\"))\n",
    "addition1(x,y)\n"
   ]
  },
  {
   "cell_type": "code",
   "execution_count": 9,
   "id": "04e10e2a-368d-4497-8e96-45182e6859ad",
   "metadata": {},
   "outputs": [
    {
     "name": "stdin",
     "output_type": "stream",
     "text": [
      "your name is 55\n",
      "your name is 55\n"
     ]
    },
    {
     "name": "stdout",
     "output_type": "stream",
     "text": [
      "your answer is  110\n"
     ]
    }
   ],
   "source": [
    "y=int(input(\"your name is\"))\n",
    "x=int(input(\"your name is\"))\n",
    "addition1(x,y)"
   ]
  },
  {
   "cell_type": "code",
   "execution_count": 13,
   "id": "5b3256e7-d371-4870-8498-fa3202a5fc61",
   "metadata": {},
   "outputs": [
    {
     "name": "stdin",
     "output_type": "stream",
     "text": [
      "enter your no 55\n"
     ]
    },
    {
     "name": "stdout",
     "output_type": "stream",
     "text": [
      "square of num is  3025\n"
     ]
    }
   ],
   "source": [
    "def square1(no1):\n",
    "    sum=no1 ** 2\n",
    "    print(\"square of num is \",sum)\n",
    "y=int(input(\"enter your no\"))\n",
    "square1(y)\n"
   ]
  },
  {
   "cell_type": "code",
   "execution_count": 16,
   "id": "df79e769-4deb-4eaa-9949-04ddc4812de1",
   "metadata": {},
   "outputs": [
    {
     "name": "stdout",
     "output_type": "stream",
     "text": [
      "welcome to addition2 function\n"
     ]
    },
    {
     "name": "stdin",
     "output_type": "stream",
     "text": [
      "enter your no 55\n",
      "enter your no2 55\n"
     ]
    },
    {
     "name": "stdout",
     "output_type": "stream",
     "text": [
      "your additional values 110\n"
     ]
    }
   ],
   "source": [
    "def addition2():\n",
    "    print(\"welcome to addition2 function\")\n",
    "    num1=int(input(\"enter your no\"))\n",
    "    num2=int(input(\"enter your no2\"))\n",
    "    sum=num1+num2\n",
    "    return sum\n",
    "\n",
    "x=addition2()\n",
    "print(\"your additional values\",x)"
   ]
  },
  {
   "cell_type": "code",
   "execution_count": null,
   "id": "25dfb097-eb88-4d9b-ad74-a74fb49f8cdd",
   "metadata": {},
   "outputs": [],
   "source": []
  }
 ],
 "metadata": {
  "kernelspec": {
   "display_name": "Python 3 (ipykernel)",
   "language": "python",
   "name": "python3"
  },
  "language_info": {
   "codemirror_mode": {
    "name": "ipython",
    "version": 3
   },
   "file_extension": ".py",
   "mimetype": "text/x-python",
   "name": "python",
   "nbconvert_exporter": "python",
   "pygments_lexer": "ipython3",
   "version": "3.12.4"
  }
 },
 "nbformat": 4,
 "nbformat_minor": 5
}
