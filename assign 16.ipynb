{
 "cells": [
  {
   "cell_type": "code",
   "execution_count": 2,
   "id": "66d4c719-971c-4f29-a4aa-abe6fb123b09",
   "metadata": {},
   "outputs": [
    {
     "name": "stdout",
     "output_type": "stream",
     "text": [
      "The file 'demo.txt' is not empty.\n"
     ]
    }
   ],
   "source": [
    "def is_file_empty(file_path):\n",
    "    try:\n",
    "        with open(file_path, 'r') as file:\n",
    "            content = file.read()\n",
    "            if len(content) == 0:\n",
    "                return True\n",
    "            else:\n",
    "                return False\n",
    "    except FileNotFoundError:\n",
    "        print(\"File does not exist.\")\n",
    "        return False\n",
    "\n",
    "file_path = \"demo.txt\"  \n",
    "if is_file_empty(file_path):\n",
    "    print(f\"The file '{file_path}' is empty.\")\n",
    "else:\n",
    "    print(f\"The file '{file_path}' is not empty.\")"
   ]
  },
  {
   "cell_type": "code",
   "execution_count": null,
   "id": "8e31f897-d235-4d52-a5c5-af0ec96d58b6",
   "metadata": {},
   "outputs": [],
   "source": []
  }
 ],
 "metadata": {
  "kernelspec": {
   "display_name": "Python 3 (ipykernel)",
   "language": "python",
   "name": "python3"
  },
  "language_info": {
   "codemirror_mode": {
    "name": "ipython",
    "version": 3
   },
   "file_extension": ".py",
   "mimetype": "text/x-python",
   "name": "python",
   "nbconvert_exporter": "python",
   "pygments_lexer": "ipython3",
   "version": "3.12.4"
  }
 },
 "nbformat": 4,
 "nbformat_minor": 5
}
