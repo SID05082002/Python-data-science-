{
 "cells": [
  {
   "cell_type": "code",
   "execution_count": 1,
   "id": "fff7fb7d-065a-4fe7-98e9-9a76d1603ab3",
   "metadata": {},
   "outputs": [
    {
     "name": "stdout",
     "output_type": "stream",
     "text": [
      "Requirement already satisfied: requests in c:\\users\\sidharth\\appdata\\local\\programs\\python\\python312\\lib\\site-packages (2.32.3)\n",
      "Requirement already satisfied: charset-normalizer<4,>=2 in c:\\users\\sidharth\\appdata\\local\\programs\\python\\python312\\lib\\site-packages (from requests) (3.3.2)\n",
      "Requirement already satisfied: idna<4,>=2.5 in c:\\users\\sidharth\\appdata\\local\\programs\\python\\python312\\lib\\site-packages (from requests) (3.7)\n",
      "Requirement already satisfied: urllib3<3,>=1.21.1 in c:\\users\\sidharth\\appdata\\local\\programs\\python\\python312\\lib\\site-packages (from requests) (2.2.2)\n",
      "Requirement already satisfied: certifi>=2017.4.17 in c:\\users\\sidharth\\appdata\\local\\programs\\python\\python312\\lib\\site-packages (from requests) (2024.6.2)\n",
      "Note: you may need to restart the kernel to use updated packages.\n"
     ]
    },
    {
     "name": "stderr",
     "output_type": "stream",
     "text": [
      "\n",
      "[notice] A new release of pip is available: 24.0 -> 24.1.1\n",
      "[notice] To update, run: python.exe -m pip install --upgrade pip\n"
     ]
    }
   ],
   "source": [
    "%pip install requests"
   ]
  },
  {
   "cell_type": "code",
   "execution_count": 2,
   "id": "c5c8ffc3-6d14-47f3-913a-b9cde5460f41",
   "metadata": {},
   "outputs": [
    {
     "ename": "SyntaxError",
     "evalue": "invalid syntax (1137679003.py, line 1)",
     "output_type": "error",
     "traceback": [
      "\u001b[1;36m  Cell \u001b[1;32mIn[2], line 1\u001b[1;36m\u001b[0m\n\u001b[1;33m    --upgrade pip\u001b[0m\n\u001b[1;37m              ^\u001b[0m\n\u001b[1;31mSyntaxError\u001b[0m\u001b[1;31m:\u001b[0m invalid syntax\n"
     ]
    }
   ],
   "source": [
    "--upgrade pip"
   ]
  },
  {
   "cell_type": "code",
   "execution_count": 3,
   "id": "eb60f242-40b1-4c8f-a6ac-21b0b5bb0831",
   "metadata": {},
   "outputs": [
    {
     "name": "stdout",
     "output_type": "stream",
     "text": [
      "Requirement already satisfied: pip in c:\\users\\sidharth\\appdata\\local\\programs\\python\\python312\\lib\\site-packages (24.0)\n",
      "Collecting pip\n",
      "  Downloading pip-24.1.1-py3-none-any.whl.metadata (3.6 kB)\n",
      "Downloading pip-24.1.1-py3-none-any.whl (1.8 MB)\n",
      "   ---------------------------------------- 0.0/1.8 MB ? eta -:--:--\n",
      "    --------------------------------------- 0.0/1.8 MB ? eta -:--:--\n",
      "   - -------------------------------------- 0.1/1.8 MB 469.7 kB/s eta 0:00:04\n",
      "   - -------------------------------------- 0.1/1.8 MB 563.7 kB/s eta 0:00:04\n",
      "   - -------------------------------------- 0.1/1.8 MB 563.7 kB/s eta 0:00:04\n",
      "   --- ------------------------------------ 0.1/1.8 MB 568.9 kB/s eta 0:00:03\n",
      "   --- ------------------------------------ 0.2/1.8 MB 573.4 kB/s eta 0:00:03\n",
      "   ---- ----------------------------------- 0.2/1.8 MB 655.6 kB/s eta 0:00:03\n",
      "   ---- ----------------------------------- 0.2/1.8 MB 655.6 kB/s eta 0:00:03\n",
      "   ----- ---------------------------------- 0.3/1.8 MB 582.4 kB/s eta 0:00:03\n",
      "   ------ --------------------------------- 0.3/1.8 MB 679.5 kB/s eta 0:00:03\n",
      "   ------- -------------------------------- 0.3/1.8 MB 635.0 kB/s eta 0:00:03\n",
      "   -------- ------------------------------- 0.4/1.8 MB 711.4 kB/s eta 0:00:03\n",
      "   -------- ------------------------------- 0.4/1.8 MB 711.4 kB/s eta 0:00:03\n",
      "   --------- ------------------------------ 0.4/1.8 MB 639.0 kB/s eta 0:00:03\n",
      "   ---------- ----------------------------- 0.5/1.8 MB 718.0 kB/s eta 0:00:02\n",
      "   ------------ --------------------------- 0.6/1.8 MB 764.6 kB/s eta 0:00:02\n",
      "   ------------ --------------------------- 0.6/1.8 MB 764.6 kB/s eta 0:00:02\n",
      "   ------------ --------------------------- 0.6/1.8 MB 764.6 kB/s eta 0:00:02\n",
      "   ------------ --------------------------- 0.6/1.8 MB 764.6 kB/s eta 0:00:02\n",
      "   ------------- -------------------------- 0.6/1.8 MB 644.8 kB/s eta 0:00:02\n",
      "   --------------- ------------------------ 0.7/1.8 MB 708.0 kB/s eta 0:00:02\n",
      "   --------------- ------------------------ 0.7/1.8 MB 708.0 kB/s eta 0:00:02\n",
      "   ----------------- ---------------------- 0.8/1.8 MB 732.8 kB/s eta 0:00:02\n",
      "   ----------------- ---------------------- 0.8/1.8 MB 732.8 kB/s eta 0:00:02\n",
      "   ----------------- ---------------------- 0.8/1.8 MB 719.1 kB/s eta 0:00:02\n",
      "   ----------------- ---------------------- 0.8/1.8 MB 719.1 kB/s eta 0:00:02\n",
      "   ----------------- ---------------------- 0.8/1.8 MB 719.1 kB/s eta 0:00:02\n",
      "   ----------------- ---------------------- 0.8/1.8 MB 719.1 kB/s eta 0:00:02\n",
      "   ----------------- ---------------------- 0.8/1.8 MB 719.1 kB/s eta 0:00:02\n",
      "   ----------------- ---------------------- 0.8/1.8 MB 719.1 kB/s eta 0:00:02\n",
      "   ----------------- ---------------------- 0.8/1.8 MB 719.1 kB/s eta 0:00:02\n",
      "   ----------------- ---------------------- 0.8/1.8 MB 719.1 kB/s eta 0:00:02\n",
      "   ----------------- ---------------------- 0.8/1.8 MB 719.1 kB/s eta 0:00:02\n",
      "   ----------------- ---------------------- 0.8/1.8 MB 719.1 kB/s eta 0:00:02\n",
      "   ----------------- ---------------------- 0.8/1.8 MB 719.1 kB/s eta 0:00:02\n",
      "   ----------------- ---------------------- 0.8/1.8 MB 719.1 kB/s eta 0:00:02\n",
      "   ----------------- ---------------------- 0.8/1.8 MB 719.1 kB/s eta 0:00:02\n",
      "   ----------------- ---------------------- 0.8/1.8 MB 719.1 kB/s eta 0:00:02\n",
      "   ----------------- ---------------------- 0.8/1.8 MB 719.1 kB/s eta 0:00:02\n",
      "   ----------------- ---------------------- 0.8/1.8 MB 719.1 kB/s eta 0:00:02\n",
      "   ----------------- ---------------------- 0.8/1.8 MB 719.1 kB/s eta 0:00:02\n",
      "   ----------------- ---------------------- 0.8/1.8 MB 719.1 kB/s eta 0:00:02\n",
      "   ----------------- ---------------------- 0.8/1.8 MB 719.1 kB/s eta 0:00:02\n",
      "   ----------------- ---------------------- 0.8/1.8 MB 719.1 kB/s eta 0:00:02\n",
      "   ----------------- ---------------------- 0.8/1.8 MB 719.1 kB/s eta 0:00:02\n",
      "   ----------------- ---------------------- 0.8/1.8 MB 719.1 kB/s eta 0:00:02\n",
      "   ----------------- ---------------------- 0.8/1.8 MB 719.1 kB/s eta 0:00:02\n",
      "   ----------------- ---------------------- 0.8/1.8 MB 719.1 kB/s eta 0:00:02\n",
      "   ----------------- ---------------------- 0.8/1.8 MB 719.1 kB/s eta 0:00:02\n",
      "   ----------------- ---------------------- 0.8/1.8 MB 719.1 kB/s eta 0:00:02\n",
      "   ----------------- ---------------------- 0.8/1.8 MB 719.1 kB/s eta 0:00:02\n",
      "   ----------------- ---------------------- 0.8/1.8 MB 719.1 kB/s eta 0:00:02\n",
      "   ----------------- ---------------------- 0.8/1.8 MB 719.1 kB/s eta 0:00:02\n",
      "   ----------------- ---------------------- 0.8/1.8 MB 719.1 kB/s eta 0:00:02\n",
      "   ----------------- ---------------------- 0.8/1.8 MB 719.1 kB/s eta 0:00:02\n",
      "   ----------------- ---------------------- 0.8/1.8 MB 719.1 kB/s eta 0:00:02\n",
      "   ----------------- ---------------------- 0.8/1.8 MB 719.1 kB/s eta 0:00:02\n",
      "   ------------------- -------------------- 0.9/1.8 MB 327.6 kB/s eta 0:00:03\n",
      "   ------------------- -------------------- 0.9/1.8 MB 327.6 kB/s eta 0:00:03\n",
      "   ------------------- -------------------- 0.9/1.8 MB 327.6 kB/s eta 0:00:03\n",
      "   ------------------- -------------------- 0.9/1.8 MB 327.6 kB/s eta 0:00:03\n",
      "   ------------------- -------------------- 0.9/1.8 MB 327.6 kB/s eta 0:00:03\n",
      "   -------------------- ------------------- 1.0/1.8 MB 324.2 kB/s eta 0:00:03\n",
      "   -------------------- ------------------- 1.0/1.8 MB 324.2 kB/s eta 0:00:03\n",
      "   -------------------- ------------------- 1.0/1.8 MB 324.2 kB/s eta 0:00:03\n",
      "   --------------------- ------------------ 1.0/1.8 MB 316.0 kB/s eta 0:00:03\n",
      "   --------------------- ------------------ 1.0/1.8 MB 316.0 kB/s eta 0:00:03\n",
      "   --------------------- ------------------ 1.0/1.8 MB 316.0 kB/s eta 0:00:03\n",
      "   --------------------- ------------------ 1.0/1.8 MB 316.0 kB/s eta 0:00:03\n",
      "   --------------------- ------------------ 1.0/1.8 MB 316.0 kB/s eta 0:00:03\n",
      "   ---------------------- ----------------- 1.0/1.8 MB 309.2 kB/s eta 0:00:03\n",
      "   ------------------------ --------------- 1.1/1.8 MB 323.1 kB/s eta 0:00:03\n",
      "   ------------------------- -------------- 1.2/1.8 MB 342.7 kB/s eta 0:00:02\n",
      "   -------------------------- ------------- 1.2/1.8 MB 344.0 kB/s eta 0:00:02\n",
      "   -------------------------- ------------- 1.2/1.8 MB 348.2 kB/s eta 0:00:02\n",
      "   ---------------------------- ----------- 1.3/1.8 MB 362.5 kB/s eta 0:00:02\n",
      "   ---------------------------- ----------- 1.3/1.8 MB 368.0 kB/s eta 0:00:02\n",
      "   ------------------------------ --------- 1.4/1.8 MB 375.7 kB/s eta 0:00:02\n",
      "   ------------------------------- -------- 1.4/1.8 MB 384.8 kB/s eta 0:00:02\n",
      "   ------------------------------- -------- 1.4/1.8 MB 384.8 kB/s eta 0:00:02\n",
      "   ------------------------------- -------- 1.5/1.8 MB 383.4 kB/s eta 0:00:01\n",
      "   ------------------------------- -------- 1.5/1.8 MB 383.4 kB/s eta 0:00:01\n",
      "   ---------------------------------- ----- 1.6/1.8 MB 408.6 kB/s eta 0:00:01\n",
      "   ---------------------------------- ----- 1.6/1.8 MB 408.6 kB/s eta 0:00:01\n",
      "   ------------------------------------- -- 1.7/1.8 MB 423.1 kB/s eta 0:00:01\n",
      "   ------------------------------------- -- 1.7/1.8 MB 423.1 kB/s eta 0:00:01\n",
      "   ---------------------------------------  1.8/1.8 MB 447.9 kB/s eta 0:00:01\n",
      "   ---------------------------------------- 1.8/1.8 MB 444.8 kB/s eta 0:00:00\n"
     ]
    },
    {
     "name": "stderr",
     "output_type": "stream",
     "text": [
      "ERROR: To modify pip, please run the following command:\n",
      "C:\\Users\\Sidharth\\AppData\\Local\\Programs\\Python\\Python312\\python.exe -m pip install --upgrade pip\n",
      "\n",
      "[notice] A new release of pip is available: 24.0 -> 24.1.1\n",
      "[notice] To update, run: python.exe -m pip install --upgrade pip\n"
     ]
    }
   ],
   "source": [
    "!pip install --upgrade pip"
   ]
  },
  {
   "cell_type": "code",
   "execution_count": 4,
   "id": "db738dac-d44d-42b3-ae6a-a7c0c9d31969",
   "metadata": {},
   "outputs": [
    {
     "name": "stdout",
     "output_type": "stream",
     "text": [
      "Requirement already satisfied: pip in c:\\users\\sidharth\\appdata\\local\\programs\\python\\python312\\lib\\site-packages (24.0)\n",
      "Collecting pip\n",
      "  Using cached pip-24.1.1-py3-none-any.whl.metadata (3.6 kB)\n",
      "Using cached pip-24.1.1-py3-none-any.whl (1.8 MB)\n"
     ]
    },
    {
     "name": "stderr",
     "output_type": "stream",
     "text": [
      "ERROR: To modify pip, please run the following command:\n",
      "C:\\Users\\Sidharth\\AppData\\Local\\Programs\\Python\\Python312\\python.exe -m pip install --upgrade pip\n",
      "\n",
      "[notice] A new release of pip is available: 24.0 -> 24.1.1\n",
      "[notice] To update, run: python.exe -m pip install --upgrade pip\n"
     ]
    }
   ],
   "source": [
    "!pip install --upgrade pip"
   ]
  },
  {
   "cell_type": "code",
   "execution_count": 5,
   "id": "a76469a0-da79-43a6-a2d7-23a7624c0bb4",
   "metadata": {},
   "outputs": [
    {
     "name": "stdout",
     "output_type": "stream",
     "text": [
      "Requirement already satisfied: pip in c:\\users\\sidharth\\appdata\\local\\programs\\python\\python312\\lib\\site-packages (24.0)\n"
     ]
    },
    {
     "name": "stderr",
     "output_type": "stream",
     "text": [
      "\n",
      "[notice] A new release of pip is available: 24.0 -> 24.1.1\n",
      "[notice] To update, run: python.exe -m pip install --upgrade pip\n"
     ]
    }
   ],
   "source": [
    "!pip install pip"
   ]
  },
  {
   "cell_type": "code",
   "execution_count": 6,
   "id": "ecd72573-ffd2-4c48-b9ad-868b68c1e423",
   "metadata": {},
   "outputs": [
    {
     "name": "stdout",
     "output_type": "stream",
     "text": [
      "Requirement already satisfied: pip in c:\\users\\sidharth\\appdata\\local\\programs\\python\\python312\\lib\\site-packages (24.1.1)\n"
     ]
    }
   ],
   "source": [
    "!pip install pip"
   ]
  },
  {
   "cell_type": "code",
   "execution_count": 7,
   "id": "2556e461-6eb4-4d3d-9868-491bb9b0aecb",
   "metadata": {},
   "outputs": [
    {
     "name": "stdout",
     "output_type": "stream",
     "text": [
      "Requirement already satisfied: beautifulsoup4 in c:\\users\\sidharth\\appdata\\local\\programs\\python\\python312\\lib\\site-packages (4.12.3)\n",
      "Requirement already satisfied: soupsieve>1.2 in c:\\users\\sidharth\\appdata\\local\\programs\\python\\python312\\lib\\site-packages (from beautifulsoup4) (2.5)\n"
     ]
    }
   ],
   "source": [
    "!pip install beautifulsoup4"
   ]
  },
  {
   "cell_type": "code",
   "execution_count": 8,
   "id": "08c92943-71d3-403c-ab7a-7a1743d02788",
   "metadata": {},
   "outputs": [
    {
     "name": "stdout",
     "output_type": "stream",
     "text": [
      "Collecting bs4\n",
      "  Downloading bs4-0.0.2-py2.py3-none-any.whl.metadata (411 bytes)\n",
      "Requirement already satisfied: beautifulsoup4 in c:\\users\\sidharth\\appdata\\local\\programs\\python\\python312\\lib\\site-packages (from bs4) (4.12.3)\n",
      "Requirement already satisfied: soupsieve>1.2 in c:\\users\\sidharth\\appdata\\local\\programs\\python\\python312\\lib\\site-packages (from beautifulsoup4->bs4) (2.5)\n",
      "Downloading bs4-0.0.2-py2.py3-none-any.whl (1.2 kB)\n",
      "Installing collected packages: bs4\n",
      "Successfully installed bs4-0.0.2\n",
      "Note: you may need to restart the kernel to use updated packages.\n"
     ]
    }
   ],
   "source": [
    "%pip install bs4"
   ]
  },
  {
   "cell_type": "code",
   "execution_count": 9,
   "id": "9b532ccc-b7f2-48a9-8a7f-dad59d790c63",
   "metadata": {},
   "outputs": [
    {
     "name": "stdout",
     "output_type": "stream",
     "text": [
      "Requirement already satisfied: bs4 in c:\\users\\sidharth\\appdata\\local\\programs\\python\\python312\\lib\\site-packages (0.0.2)Note: you may need to restart the kernel to use updated packages.\n",
      "\n",
      "Requirement already satisfied: beautifulsoup4 in c:\\users\\sidharth\\appdata\\local\\programs\\python\\python312\\lib\\site-packages (from bs4) (4.12.3)\n",
      "Requirement already satisfied: soupsieve>1.2 in c:\\users\\sidharth\\appdata\\local\\programs\\python\\python312\\lib\\site-packages (from beautifulsoup4->bs4) (2.5)\n"
     ]
    }
   ],
   "source": [
    "%pip install bs4"
   ]
  },
  {
   "cell_type": "code",
   "execution_count": 2,
   "id": "1057ac17-2028-46b7-b58b-6555c75d1501",
   "metadata": {},
   "outputs": [
    {
     "name": "stdout",
     "output_type": "stream",
     "text": [
      "<Response [200]>\n"
     ]
    }
   ],
   "source": [
    "#program of fetching html code\n",
    "# importing pacakges\n",
    "import requests\n",
    "from bs4 import BeautifulSoup\n",
    "# get is method inside request pacakge, it will give us access/response on any url\n",
    "r=requests.get('https://www.flipkart.com/')\n",
    "# response 200 means successfully got response from requests command\n",
    "print(r)\n",
    "\n",
    "soup=BeautifulSoup(r.content,'html.parser')\n",
    "#view HTML code\n",
    "print(soup.pretiffy())"
   ]
  },
  {
   "cell_type": "code",
   "execution_count": 3,
   "id": "4123c960-14d3-4f5a-a207-0a26aab41ab2",
   "metadata": {},
   "outputs": [
    {
     "name": "stdout",
     "output_type": "stream",
     "text": [
      "[]\n"
     ]
    }
   ],
   "source": [
    "#parsing/inspecting amazon url with HTML parser\n",
    "soup=BeautifulSoup(r.content,'html.parser')\n",
    "#view HTML code\n",
    "print(soup.title())"
   ]
  },
  {
   "cell_type": "code",
   "execution_count": 24,
   "id": "a3860ebd-aa3d-453e-88e9-be5949ff7cfb",
   "metadata": {},
   "outputs": [
    {
     "name": "stdout",
     "output_type": "stream",
     "text": [
      "200\n",
      "<script type=\"text/javascript\">var ue_t0=ue_t0||+new Date();</script>\n"
     ]
    }
   ],
   "source": [
    "#program to find tag and atrribute under that tag html code\n",
    "# importing pacakges\n",
    "import requests\n",
    "from bs4 import BeautifulSoup\n",
    "headers = {\n",
    "    'User-Agent': 'Mozilla/5.0 (Windows NT 10.0; Win64; x64) AppleWebKit/537.36 (KHTML, like Gecko) Chrome/91.0.4472.124 Safari/537.36',\n",
    "    'Accept-Language': 'en-US,en;q=0.9',\n",
    "    'Accept-Encoding': 'gzip, deflate, br',\n",
    "    'Connection': 'keep-alive'\n",
    "}\n",
    "# get is method inside request pacakge, it will give us access/response on any url\n",
    "r=requests.get('https://www.amazon.in/',headers=headers)\n",
    "# response 200 means successfully got response from requests command\n",
    "print(r.status_code)\n",
    "\n",
    "#view HTML tag as div with attribute as navigation bar\n",
    "#soup=BeautifulSoup(r.content,'html.parser')\n",
    "script = soup.find(\"script\", type=\"text/javascript\")\n",
    "print(script)\n",
    "#print(s)\n",
    "\n",
    "#check all the categ\n",
    "#check all the category, with specified tag\n",
    "#content=soup.find_all('a')\n",
    "#print(content)\n",
    "\n",
    "#extract all text from html\n",
    "#for txt in content:\n",
    "#    print(txt.text)\n",
    "\n",
    "#extract all links present under a tag and href attribute\n",
    "#for link in content:\n",
    "#    print(link.get('href'))"
   ]
  },
  {
   "cell_type": "code",
   "execution_count": 19,
   "id": "ba346dec-2dfb-4eb2-a9bf-786625bd0c7d",
   "metadata": {},
   "outputs": [
    {
     "name": "stdout",
     "output_type": "stream",
     "text": [
      "200\n",
      "<div id=\"nav-search\">\n",
      "<div id=\"nav-bar-left\"></div>\n",
      "<form accept-charset=\"utf-8\" action=\"/s/ref=nb_sb_noss\" class=\"nav-searchbar nav-progressive-attribute\" id=\"nav-search-bar-form\" method=\"GET\" name=\"site-search\" role=\"search\">\n",
      "<div class=\"nav-left\">\n",
      "<div id=\"nav-search-dropdown-card\">\n",
      "<div class=\"nav-search-scope nav-sprite\">\n",
      "<div class=\"nav-search-facade\" data-value=\"search-alias=aps\">\n",
      "<span class=\"nav-search-label nav-progressive-content\" id=\"nav-search-label-id\">All</span>\n",
      "<i class=\"nav-icon\"></i>\n",
      "</div>\n",
      "<label class=\"nav-progressive-attribute\" for=\"searchDropdownBox\" id=\"searchDropdownDescription\" style=\"display:none\">Select the department you want to search in</label>\n",
      "<select aria-describedby=\"searchDropdownDescription\" class=\"nav-search-dropdown searchSelect nav-progressive-attrubute nav-progressive-search-dropdown\" data-nav-digest=\"bWVcD3YlJR7bl7mJRxk8QgeiLoU=\" data-nav-selected=\"0\" id=\"searchDropdownBox\" name=\"url\" style=\"display: block;\" tabindex=\"0\" title=\"Search in\">\n",
      "<option selected=\"selected\" value=\"search-alias=aps\">All Categories</option>\n",
      "<option value=\"search-alias=alexa-skills\">Alexa Skills</option>\n",
      "<option value=\"search-alias=amazon-devices\">Amazon Devices</option>\n",
      "<option value=\"search-alias=fashion\">Amazon Fashion</option>\n",
      "<option value=\"search-alias=nowstore\">Amazon Fresh</option>\n",
      "<option value=\"search-alias=freshmeat\">Amazon Fresh Meat</option>\n",
      "<option value=\"search-alias=amazon-pharmacy\">Amazon Pharmacy</option>\n",
      "<option value=\"search-alias=appliances\">Appliances</option>\n",
      "<option value=\"search-alias=mobile-apps\">Apps &amp; Games</option>\n",
      "<option value=\"search-alias=audible\">Audible Audiobooks</option>\n",
      "<option value=\"search-alias=baby\">Baby</option>\n",
      "<option value=\"search-alias=beauty\">Beauty</option>\n",
      "<option value=\"search-alias=stripbooks\">Books</option>\n",
      "<option value=\"search-alias=automotive\">Car &amp; Motorbike</option>\n",
      "<option value=\"search-alias=apparel\">Clothing &amp; Accessories</option>\n",
      "<option value=\"search-alias=collectibles\">Collectibles</option>\n",
      "<option value=\"search-alias=computers\">Computers &amp; Accessories</option>\n",
      "<option value=\"search-alias=todays-deals\">Deals</option>\n",
      "<option value=\"search-alias=electronics\">Electronics</option>\n",
      "<option value=\"search-alias=furniture\">Furniture</option>\n",
      "<option value=\"search-alias=lawngarden\">Garden &amp; Outdoors</option>\n",
      "<option value=\"search-alias=gift-cards\">Gift Cards</option>\n",
      "<option value=\"search-alias=grocery\">Grocery &amp; Gourmet Foods</option>\n",
      "<option value=\"search-alias=hpc\">Health &amp; Personal Care</option>\n",
      "<option value=\"search-alias=kitchen\">Home &amp; Kitchen</option>\n",
      "<option value=\"search-alias=industrial\">Industrial &amp; Scientific</option>\n",
      "<option value=\"search-alias=jewelry\">Jewellery</option>\n",
      "<option value=\"search-alias=digital-text\">Kindle Store</option>\n",
      "<option value=\"search-alias=luggage\">Luggage &amp; Bags</option>\n",
      "<option value=\"search-alias=luxury-beauty\">Luxury Beauty</option>\n",
      "<option value=\"search-alias=dvd\">Movies &amp; TV Shows</option>\n",
      "<option value=\"search-alias=digital-music\">MP3 Music</option>\n",
      "<option value=\"search-alias=popular\">Music</option>\n",
      "<option value=\"search-alias=mi\">Musical Instruments</option>\n",
      "<option value=\"search-alias=office-products\">Office Products</option>\n",
      "<option value=\"search-alias=pets\">Pet Supplies</option>\n",
      "<option value=\"search-alias=instant-video\">Prime Video</option>\n",
      "<option value=\"search-alias=shoes\">Shoes &amp; Handbags</option>\n",
      "<option value=\"search-alias=software\">Software</option>\n",
      "<option value=\"search-alias=sporting\">Sports, Fitness &amp; Outdoors</option>\n",
      "<option value=\"search-alias=specialty-aps-sns\">Subscribe &amp; Save</option>\n",
      "<option value=\"search-alias=home-improvement\">Tools &amp; Home Improvement</option>\n",
      "<option value=\"search-alias=toys\">Toys &amp; Games</option>\n",
      "<option value=\"search-alias=under-ten-dollars\">Under ₹500</option>\n",
      "<option value=\"search-alias=videogames\">Video Games</option>\n",
      "<option value=\"search-alias=watches\">Watches</option>\n",
      "</select>\n",
      "</div>\n",
      "</div>\n",
      "</div>\n",
      "<div class=\"nav-fill\">\n",
      "<div class=\"nav-search-field\">\n",
      "<label for=\"twotabsearchtextbox\" style=\"display: none;\">Search Amazon.in</label>\n",
      "<input aria-label=\"Search Amazon.in\" autocomplete=\"off\" class=\"nav-input nav-progressive-attribute\" dir=\"auto\" id=\"twotabsearchtextbox\" name=\"field-keywords\" placeholder=\"Search Amazon.in\" spellcheck=\"false\" tabindex=\"0\" type=\"text\" value=\"\"/>\n",
      "</div>\n",
      "<div id=\"nav-iss-attach\"></div>\n",
      "</div>\n",
      "<div class=\"nav-right\">\n",
      "<div class=\"nav-search-submit nav-sprite\">\n",
      "<span aria-label=\"Go\" class=\"nav-search-submit-text nav-sprite nav-progressive-attribute\" id=\"nav-search-submit-text\">\n",
      "<input class=\"nav-input nav-progressive-attribute\" id=\"nav-search-submit-button\" tabindex=\"0\" type=\"submit\" value=\"Go\"/>\n",
      "</span>\n",
      "</div>\n",
      "</div>\n",
      "</form>\n",
      "</div>\n"
     ]
    }
   ],
   "source": [
    "import requests\n",
    "from bs4 import BeautifulSoup\n",
    "\n",
    "# Define the headers to make the request look like it's coming from a browser\n",
    "headers = {\n",
    "    'User-Agent': 'Mozilla/5.0 (Windows NT 10.0; Win64; x64) AppleWebKit/537.36 (KHTML, like Gecko) Chrome/91.0.4472.124 Safari/537.36',\n",
    "    'Accept-Language': 'en-US,en;q=0.9',\n",
    "    'Accept-Encoding': 'gzip, deflate, br',\n",
    "    'Connection': 'keep-alive'\n",
    "}\n",
    "\n",
    "# Make a GET request to the Amazon India website with headers\n",
    "r = requests.get('https://www.amazon.in/', headers=headers)\n",
    "\n",
    "# Print the response code\n",
    "print(r.status_code)\n",
    "\n",
    "# Check if the request was successful before parsing\n",
    "if r.status_code == 200:\n",
    "    # Parse the response content as HTML\n",
    "    soup = BeautifulSoup(r.content, 'html.parser')\n",
    "\n",
    "    # Find the <div> element with the id attribute 'nav-search'\n",
    "    s = soup.find('div', {'id': 'nav-search'})\n",
    "\n",
    "    # Print the found <div> element\n",
    "    print(s)\n",
    "else:\n",
    "    print(f\"Failed to retrieve the page. Status code: {r.status_code}\")\n"
   ]
  },
  {
   "cell_type": "code",
   "execution_count": null,
   "id": "6d187ffc-cec7-4e4d-9fa5-1e10b85dbed0",
   "metadata": {},
   "outputs": [],
   "source": []
  }
 ],
 "metadata": {
  "kernelspec": {
   "display_name": "Python 3 (ipykernel)",
   "language": "python",
   "name": "python3"
  },
  "language_info": {
   "codemirror_mode": {
    "name": "ipython",
    "version": 3
   },
   "file_extension": ".py",
   "mimetype": "text/x-python",
   "name": "python",
   "nbconvert_exporter": "python",
   "pygments_lexer": "ipython3",
   "version": "3.12.4"
  }
 },
 "nbformat": 4,
 "nbformat_minor": 5
}
