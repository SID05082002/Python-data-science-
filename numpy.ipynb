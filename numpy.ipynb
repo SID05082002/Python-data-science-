{
 "cells": [
  {
   "cell_type": "code",
   "execution_count": 9,
   "id": "a09110b3-f6c2-4a29-8b63-8d8734bf4cd3",
   "metadata": {},
   "outputs": [
    {
     "data": {
      "text/plain": [
       "[1, 2, 3, 4, 5, 6]"
      ]
     },
     "execution_count": 9,
     "metadata": {},
     "output_type": "execute_result"
    }
   ],
   "source": [
    "import numpy as np\n",
    "a=[1,2,3,4,5,6]\n",
    "a"
   ]
  },
  {
   "cell_type": "code",
   "execution_count": 8,
   "id": "77535888-3f67-411c-a45f-aa882d67dc68",
   "metadata": {},
   "outputs": [
    {
     "data": {
      "text/plain": [
       "array([1, 2, 3, 4, 5, 6])"
      ]
     },
     "execution_count": 8,
     "metadata": {},
     "output_type": "execute_result"
    }
   ],
   "source": [
    "#creating numpy array \n",
    "x=np.array(a)\n",
    "x"
   ]
  },
  {
   "cell_type": "code",
   "execution_count": 39,
   "id": "3f89bc2c-3a1b-4fc6-979c-21e5c10bf7df",
   "metadata": {},
   "outputs": [
    {
     "data": {
      "text/plain": [
       "array([[1, 2, 3],\n",
       "       [4, 5, 6]])"
      ]
     },
     "execution_count": 39,
     "metadata": {},
     "output_type": "execute_result"
    }
   ],
   "source": [
    "# first is row next is col\n",
    "a=np.array([[1,2,3,],[4,5,6]])\n",
    "a"
   ]
  },
  {
   "cell_type": "code",
   "execution_count": 16,
   "id": "f9f3af69-2fce-414f-bbcb-ae54795bb1c1",
   "metadata": {},
   "outputs": [
    {
     "data": {
      "text/plain": [
       "array([[1, 2, 3],\n",
       "       [4, 5, 6],\n",
       "       [7, 8, 9]])"
      ]
     },
     "execution_count": 16,
     "metadata": {},
     "output_type": "execute_result"
    }
   ],
   "source": [
    "#passing array inside array\n",
    "a=np.array([[1,2,3],[4,5,6],[7,8,9]])\n",
    "a# direct reference for the print "
   ]
  },
  {
   "cell_type": "code",
   "execution_count": 14,
   "id": "2e2342f8-71ec-4417-b7a5-8a45a93eeed6",
   "metadata": {},
   "outputs": [
    {
     "data": {
      "text/plain": [
       "(3, 3)"
      ]
     },
     "execution_count": 14,
     "metadata": {},
     "output_type": "execute_result"
    }
   ],
   "source": [
    "#shape attribute return shape of an array \n",
    "a.shape"
   ]
  },
  {
   "cell_type": "code",
   "execution_count": 17,
   "id": "3bc56e00-2f60-4792-9990-94ddd390550a",
   "metadata": {},
   "outputs": [
    {
     "data": {
      "text/plain": [
       "9"
      ]
     },
     "execution_count": 17,
     "metadata": {},
     "output_type": "execute_result"
    }
   ],
   "source": [
    "#size returns total number of elements in an array \n",
    "a.size"
   ]
  },
  {
   "cell_type": "code",
   "execution_count": 18,
   "id": "ed661276-a7d7-4d47-b71f-54729c7dc4f4",
   "metadata": {},
   "outputs": [
    {
     "data": {
      "text/plain": [
       "2"
      ]
     },
     "execution_count": 18,
     "metadata": {},
     "output_type": "execute_result"
    }
   ],
   "source": [
    "#ndim give how many dimension of the array i.e it counts the square bracket in 2-3 dimension array\n",
    "a.ndim"
   ]
  },
  {
   "cell_type": "code",
   "execution_count": 19,
   "id": "b7c306a1-9ac4-47b1-80c5-d35263b64b08",
   "metadata": {},
   "outputs": [
    {
     "data": {
      "text/plain": [
       "array([[1, 4, 7],\n",
       "       [2, 5, 8],\n",
       "       [3, 6, 9]])"
      ]
     },
     "execution_count": 19,
     "metadata": {},
     "output_type": "execute_result"
    }
   ],
   "source": [
    "#transpose c0nvert row into col viz\n",
    "a.T"
   ]
  },
  {
   "cell_type": "code",
   "execution_count": 29,
   "id": "0819ce81-c697-4974-8a35-9625328b3493",
   "metadata": {},
   "outputs": [
    {
     "ename": "ValueError",
     "evalue": "cannot reshape array of size 9 into shape (9,6)",
     "output_type": "error",
     "traceback": [
      "\u001b[1;31m---------------------------------------------------------------------------\u001b[0m",
      "\u001b[1;31mValueError\u001b[0m                                Traceback (most recent call last)",
      "Cell \u001b[1;32mIn[29], line 2\u001b[0m\n\u001b[0;32m      1\u001b[0m \u001b[38;5;66;03m#function reshape change shape of an array make sure product should \u001b[39;00m\n\u001b[1;32m----> 2\u001b[0m a\u001b[38;5;241m=\u001b[39m\u001b[43ma\u001b[49m\u001b[38;5;241;43m.\u001b[39;49m\u001b[43mreshape\u001b[49m\u001b[43m(\u001b[49m\u001b[38;5;241;43m9\u001b[39;49m\u001b[43m,\u001b[49m\u001b[38;5;241;43m6\u001b[39;49m\u001b[43m)\u001b[49m\n\u001b[0;32m      3\u001b[0m a\n",
      "\u001b[1;31mValueError\u001b[0m: cannot reshape array of size 9 into shape (9,6)"
     ]
    }
   ],
   "source": [
    "#function reshape change shape of an array make sure product should \n",
    "a=a.reshape(9,6)\n",
    "a"
   ]
  },
  {
   "cell_type": "code",
   "execution_count": 44,
   "id": "df3fd407-afb5-4405-a88a-9c2ee887e2dd",
   "metadata": {},
   "outputs": [
    {
     "data": {
      "text/plain": [
       "array([[11, 12, 13],\n",
       "       [14, 15, 16]])"
      ]
     },
     "execution_count": 44,
     "metadata": {},
     "output_type": "execute_result"
    }
   ],
   "source": [
    "b=np.array([11,12,13,14,15,16])\n",
    "b=b.reshape(2,3)\n",
    "b\n"
   ]
  },
  {
   "cell_type": "code",
   "execution_count": 47,
   "id": "00b34b42-920b-4087-acd6-f27a677942ec",
   "metadata": {},
   "outputs": [
    {
     "data": {
      "text/plain": [
       "array([[ 1,  2,  3],\n",
       "       [ 4,  5,  6],\n",
       "       [11, 12, 13],\n",
       "       [14, 15, 16]])"
      ]
     },
     "execution_count": 47,
     "metadata": {},
     "output_type": "execute_result"
    }
   ],
   "source": [
    "#concantenate join two array\n",
    "np.concatenate((a,b))"
   ]
  },
  {
   "cell_type": "code",
   "execution_count": 45,
   "id": "e5a5aa8a-a651-4483-87a2-7b0bbffeedc3",
   "metadata": {},
   "outputs": [
    {
     "data": {
      "text/plain": [
       "array([[ 1,  2,  3],\n",
       "       [ 4,  5,  6],\n",
       "       [11, 12, 13],\n",
       "       [14, 15, 16]])"
      ]
     },
     "execution_count": 45,
     "metadata": {},
     "output_type": "execute_result"
    }
   ],
   "source": [
    "#vstack join two array vertically (col)\n",
    "np.vstack((a,b))"
   ]
  },
  {
   "cell_type": "code",
   "execution_count": 46,
   "id": "eb145059-31ac-44d9-9754-7c4aef7431bf",
   "metadata": {},
   "outputs": [
    {
     "data": {
      "text/plain": [
       "array([[ 1,  2,  3, 11, 12, 13],\n",
       "       [ 4,  5,  6, 14, 15, 16]])"
      ]
     },
     "execution_count": 46,
     "metadata": {},
     "output_type": "execute_result"
    }
   ],
   "source": [
    "#hstack join two array horizontal(row)\n",
    "np.hstack((a,b))"
   ]
  },
  {
   "cell_type": "code",
   "execution_count": 50,
   "id": "0d48516d-566f-47b5-ad12-e890eeb6217f",
   "metadata": {},
   "outputs": [
    {
     "data": {
      "text/plain": [
       "array([21, 22, 23, 25, 26, 27, 28, 29, 30])"
      ]
     },
     "execution_count": 50,
     "metadata": {},
     "output_type": "execute_result"
    }
   ],
   "source": [
    "#append -- used to add element in an array only at the end \n",
    "c=np.array([21,22,23,25,26])\n",
    "c\n",
    "c=np.append(c,[27,28,29,30]) # c is the array to be updated \n",
    "c"
   ]
  },
  {
   "cell_type": "code",
   "execution_count": 51,
   "id": "f41bd29a-ec3d-4409-86ff-bd15b6737c1b",
   "metadata": {},
   "outputs": [
    {
     "data": {
      "text/plain": [
       "array([21, 22, 23, 24, 25, 26, 27, 28, 29, 30])"
      ]
     },
     "execution_count": 51,
     "metadata": {},
     "output_type": "execute_result"
    }
   ],
   "source": [
    "#insert add ele at specified index \n",
    "c=np.insert(c,3,24) #which array at what index which value \n",
    "c\n"
   ]
  },
  {
   "cell_type": "code",
   "execution_count": 53,
   "id": "a9db965b-64e7-4339-8eb1-f7afa169bc02",
   "metadata": {},
   "outputs": [
    {
     "data": {
      "text/plain": [
       "array([21, 22, 23, 24, 25, 26, 27, 28, 29])"
      ]
     },
     "execution_count": 53,
     "metadata": {},
     "output_type": "execute_result"
    }
   ],
   "source": [
    "#delete delete any ele from array\n",
    "c=np.delete(c,[9]) # which array, from what index\n",
    "c"
   ]
  },
  {
   "cell_type": "code",
   "execution_count": 62,
   "id": "1af72db0-e3cb-48b5-99ab-7e5b58265407",
   "metadata": {},
   "outputs": [
    {
     "data": {
      "text/plain": [
       "array([[ 2,  4],\n",
       "       [ 6,  8],\n",
       "       [10, 12],\n",
       "       [14, 16]])"
      ]
     },
     "execution_count": 62,
     "metadata": {},
     "output_type": "execute_result"
    }
   ],
   "source": [
    "#arrange it creates an array with given size \n",
    "#slicing single dim array\n",
    "#x=np.arange(6)\n",
    "#x\n",
    "#y=np.arange(2,30,2) # 2 to 30 with diff of 2\n",
    "#y\n",
    "#y=y.reshape(7,2)\n",
    "#y\n",
    "y[0:4]"
   ]
  },
  {
   "cell_type": "code",
   "execution_count": 65,
   "id": "d1b9ed48-7ac4-4f01-a292-bd8dc528041d",
   "metadata": {},
   "outputs": [
    {
     "data": {
      "text/plain": [
       "array([[[-3.1746372 , -0.5095073 , -0.37907668],\n",
       "        [-0.70540288,  0.05300758,  1.39596439]],\n",
       "\n",
       "       [[-1.3458707 ,  0.90030753,  0.90999274],\n",
       "        [-1.02042372, -0.22641498,  0.056825  ]],\n",
       "\n",
       "       [[ 0.28333229, -0.79440483, -0.51957342],\n",
       "        [-1.35320087,  1.76432864,  0.57975739]]])"
      ]
     },
     "execution_count": 65,
     "metadata": {},
     "output_type": "execute_result"
    }
   ],
   "source": [
    "## random.rand:  create array with random number(float) of specifies size\n",
    "import numpy as np\n",
    "#np.random.rand(4) #1d array with 4 array\n",
    "#np.random.randn(4) #this will show negative val as well\n",
    "#np.random.randn(2,3) #2d array with 2 row and 3 col \n",
    "np.random.randn(3,2,3) # 3D array with 3 matrix of 2 rows and 3 cols"
   ]
  },
  {
   "cell_type": "code",
   "execution_count": 1,
   "id": "677cef0f-a04b-40e9-8480-cd064061e56f",
   "metadata": {},
   "outputs": [
    {
     "ename": "NameError",
     "evalue": "name 'a' is not defined",
     "output_type": "error",
     "traceback": [
      "\u001b[1;31m---------------------------------------------------------------------------\u001b[0m",
      "\u001b[1;31mNameError\u001b[0m                                 Traceback (most recent call last)",
      "Cell \u001b[1;32mIn[1], line 2\u001b[0m\n\u001b[0;32m      1\u001b[0m \u001b[38;5;66;03m#sum of the all elements\u001b[39;00m\n\u001b[1;32m----> 2\u001b[0m \u001b[43ma\u001b[49m\u001b[38;5;241m.\u001b[39msum()\n",
      "\u001b[1;31mNameError\u001b[0m: name 'a' is not defined"
     ]
    }
   ],
   "source": [
    "#sum of the all elements\n",
    "a.sum()"
   ]
  },
  {
   "cell_type": "code",
   "execution_count": 3,
   "id": "8aaecd98-3ff3-4bf6-8924-036e96a7d529",
   "metadata": {},
   "outputs": [
    {
     "data": {
      "text/plain": [
       "array([ 1,  2,  3,  4,  5,  6,  7,  8,  9, 10])"
      ]
     },
     "execution_count": 3,
     "metadata": {},
     "output_type": "execute_result"
    }
   ],
   "source": [
    "import numpy as np\n",
    "a=np.arange(1,11)\n",
    "a"
   ]
  },
  {
   "cell_type": "code",
   "execution_count": null,
   "id": "e4f9c717-f8a6-459d-80a7-79fd3692788c",
   "metadata": {},
   "outputs": [],
   "source": [
    "#aggregate function "
   ]
  },
  {
   "cell_type": "code",
   "execution_count": 11,
   "id": "f6a91e0a-1b3f-44a8-8ce5-ba1ae6adfc79",
   "metadata": {},
   "outputs": [
    {
     "data": {
      "text/plain": [
       "np.int64(55)"
      ]
     },
     "execution_count": 11,
     "metadata": {},
     "output_type": "execute_result"
    }
   ],
   "source": [
    "#find the sum of all numbers\n",
    "a=a.sum()\n",
    "a"
   ]
  },
  {
   "cell_type": "code",
   "execution_count": 5,
   "id": "733587fd-1eca-40e1-a0b0-2b8ee5a78b09",
   "metadata": {},
   "outputs": [
    {
     "data": {
      "text/plain": [
       "np.int64(3628800)"
      ]
     },
     "execution_count": 5,
     "metadata": {},
     "output_type": "execute_result"
    }
   ],
   "source": [
    "#find prod of all elements\n",
    "a.prod()"
   ]
  },
  {
   "cell_type": "code",
   "execution_count": 6,
   "id": "d5135cf3-6e7f-4e91-a417-f7b460ecafb1",
   "metadata": {},
   "outputs": [
    {
     "data": {
      "text/plain": [
       "np.float64(5.5)"
      ]
     },
     "execution_count": 6,
     "metadata": {},
     "output_type": "execute_result"
    }
   ],
   "source": [
    "#find all the mean value from all elements\n",
    "a.mean()"
   ]
  },
  {
   "cell_type": "code",
   "execution_count": 49,
   "id": "50522c4c-603e-4c39-9794-3c466659af90",
   "metadata": {},
   "outputs": [
    {
     "data": {
      "text/plain": [
       "np.float64(5.744562646538029)"
      ]
     },
     "execution_count": 49,
     "metadata": {},
     "output_type": "execute_result"
    }
   ],
   "source": [
    "#std find standard deviation from all values \n",
    "b=np.arange(2,22,2)\n",
    "b=b.reshape(2,5)\n",
    "\n",
    "b.std()"
   ]
  },
  {
   "cell_type": "code",
   "execution_count": 35,
   "id": "9f13bb97-d67a-4ab1-a2c8-16a1be75b736",
   "metadata": {},
   "outputs": [
    {
     "data": {
      "text/plain": [
       "np.float64(33.0)"
      ]
     },
     "execution_count": 35,
     "metadata": {},
     "output_type": "execute_result"
    }
   ],
   "source": [
    "#find the variance \n",
    "b.var()"
   ]
  },
  {
   "cell_type": "code",
   "execution_count": 36,
   "id": "b262b8d7-e5ca-4d1c-9369-7a2c4bd094cc",
   "metadata": {},
   "outputs": [
    {
     "name": "stdout",
     "output_type": "stream",
     "text": [
      "2\n",
      "20\n"
     ]
    }
   ],
   "source": [
    "print(b.min())\n",
    "print(b.max())"
   ]
  },
  {
   "cell_type": "code",
   "execution_count": 39,
   "id": "b54510c3-b5ef-4214-970e-b531f4e664a3",
   "metadata": {},
   "outputs": [
    {
     "data": {
      "text/plain": [
       "np.True_"
      ]
     },
     "execution_count": 39,
     "metadata": {},
     "output_type": "execute_result"
    }
   ],
   "source": [
    "#checks if all array elements along a given axis evaulate to true all non zero value \n",
    "b.all()"
   ]
  },
  {
   "cell_type": "code",
   "execution_count": 44,
   "id": "108989ab-8ccf-4102-b7b1-f664ecd7dd65",
   "metadata": {},
   "outputs": [
    {
     "data": {
      "text/plain": [
       "np.False_"
      ]
     },
     "execution_count": 44,
     "metadata": {},
     "output_type": "execute_result"
    }
   ],
   "source": [
    "b=np.zeros((10,10))\n",
    "b\n",
    "b.all()"
   ]
  },
  {
   "cell_type": "code",
   "execution_count": 47,
   "id": "ced5b102-973d-4c54-98f9-2b7eefc71a1a",
   "metadata": {},
   "outputs": [
    {
     "name": "stdout",
     "output_type": "stream",
     "text": [
      "[[ 2  4  6  8 10]\n",
      " [12 14 16 18 20]]\n",
      "Standard Deviation: 5.744562646538029\n"
     ]
    }
   ],
   "source": [
    "import numpy as np\n",
    "\n",
    "# Create an array of even numbers from 2 to 20\n",
    "b = np.arange(2, 22, 2)\n",
    "\n",
    "# Reshape the array to a shape of (2, 5)\n",
    "b = b.reshape(2, 5)\n",
    "\n",
    "# Calculate the standard deviation of the array\n",
    "std_dev = b.std()#std here stands for standard deviation \n",
    "\n",
    "print(b)\n",
    "print(\"Standard Deviation:\", std_dev)\n"
   ]
  },
  {
   "cell_type": "code",
   "execution_count": 50,
   "id": "f48563cc-32a0-4b82-98b4-c87bbbae39f8",
   "metadata": {},
   "outputs": [
    {
     "data": {
      "text/plain": [
       "np.True_"
      ]
     },
     "execution_count": 50,
     "metadata": {},
     "output_type": "execute_result"
    }
   ],
   "source": [
    "c=np.eye(3)\n",
    "c.any()"
   ]
  },
  {
   "cell_type": "code",
   "execution_count": 53,
   "id": "abe74a8a-4469-4c10-aed4-255043c3ba58",
   "metadata": {},
   "outputs": [
    {
     "data": {
      "text/plain": [
       "array([[1., 0., 0.],\n",
       "       [0., 1., 0.],\n",
       "       [0., 0., 1.]])"
      ]
     },
     "execution_count": 53,
     "metadata": {},
     "output_type": "execute_result"
    }
   ],
   "source": [
    "d=np.eye(3,3,k=0)\n",
    "d"
   ]
  },
  {
   "cell_type": "code",
   "execution_count": 69,
   "id": "31cbc513-329c-4428-b901-5ea15304ca6f",
   "metadata": {},
   "outputs": [
    {
     "name": "stdout",
     "output_type": "stream",
     "text": [
      "10\n"
     ]
    }
   ],
   "source": [
    "b=np.zeros((3,2))\n",
    "#b1=b.shape[1]\n",
    "\n",
    "#print(b1)\n",
    "for i in range(2):\n",
    "    b[i]=i\n",
    "\n",
    "b=b.T\n",
    "b=b.shape[1]\n",
    "print(b1) # no of values in col index 1 "
   ]
  },
  {
   "cell_type": "code",
   "execution_count": 71,
   "id": "6ca4e37a-0b36-425f-8a85-3e4ce9a661ea",
   "metadata": {},
   "outputs": [
    {
     "name": "stdout",
     "output_type": "stream",
     "text": [
      "[[ 2  4  6  8 10]\n",
      " [12 14 16 18 20]]\n"
     ]
    },
    {
     "data": {
      "text/plain": [
       "array([  2,   6,  12,  20,  30,  42,  56,  72,  90, 110])"
      ]
     },
     "execution_count": 71,
     "metadata": {},
     "output_type": "execute_result"
    }
   ],
   "source": [
    "#running totol\n",
    "#cumsum() -- returns the cumilative sum of the elements along a given matrix\n",
    "b=np.arange(2,22,2)\n",
    "b=b.reshape(2,5)\n",
    "print(b)\n",
    "b.cumsum()# running total oall elal"
   ]
  },
  {
   "cell_type": "code",
   "execution_count": null,
   "id": "78d8f4ec-2f11-4b43-a353-e4f5e885a117",
   "metadata": {},
   "outputs": [],
   "source": [
    "vectorization -- it refers to performing elemen ts wise operation on array\n",
    "it saves excution time interview main"
   ]
  },
  {
   "cell_type": "code",
   "execution_count": 72,
   "id": "583d8559-279e-4853-b1fa-44a4cd31ccfa",
   "metadata": {},
   "outputs": [
    {
     "name": "stdout",
     "output_type": "stream",
     "text": [
      "[11 12 13 14 15]\n",
      "<class 'numpy.ndarray'>\n"
     ]
    }
   ],
   "source": [
    "import numpy as np\n",
    "array1 = np.array([1, 2, 3, 4, 5 ])\n",
    "number = 10\n",
    "\n",
    "#  number sums up with each array element\n",
    "result = array1 + number\n",
    "\n",
    "print(result)\n",
    "print(type(result))"
   ]
  },
  {
   "cell_type": "code",
   "execution_count": 73,
   "id": "80e84207-b261-4ef3-8d54-7eace43f15da",
   "metadata": {},
   "outputs": [
    {
     "name": "stdout",
     "output_type": "stream",
     "text": [
      "For loop time: 0.0\n"
     ]
    }
   ],
   "source": [
    "import time \n",
    "\n",
    "start = time.time()\n",
    "\n",
    "array1 = [1, 2, 3, 4, 5]\n",
    "\n",
    "for i in range(len(array1)):\n",
    "    array1[i] =array1[i]+ 10\n",
    "\n",
    "#print(array1)\n",
    "\n",
    "end = time.time()\n",
    "\n",
    "print(\"For loop time:\", end - start)"
   ]
  },
  {
   "cell_type": "code",
   "execution_count": 75,
   "id": "6b1b07db-c6b6-484d-b81d-56e535f3fb2a",
   "metadata": {},
   "outputs": [
    {
     "name": "stdout",
     "output_type": "stream",
     "text": [
      "Vectorization time: 0.0\n"
     ]
    }
   ],
   "source": [
    "import numpy as np\n",
    "import time\n",
    "\n",
    "start = time.time()\n",
    "\n",
    "array1 = np.array([1, 2, 3, 4, 5 ])\n",
    "\n",
    "result = array1 + 10\n",
    "\n",
    "#print(result)\n",
    "\n",
    "end = time.time()\n",
    "\n",
    "print(\"Vectorization time:\", end - start)\n"
   ]
  },
  {
   "cell_type": "code",
   "execution_count": 78,
   "id": "33528c24-b18e-4177-a126-48b8454974ac",
   "metadata": {},
   "outputs": [
    {
     "name": "stdout",
     "output_type": "stream",
     "text": [
      "total execution time is 0.0010013580322265625\n"
     ]
    }
   ],
   "source": [
    "# find square of number in an array\n",
    "import time\n",
    "start_time= time.time()\n",
    "def find_square(x):\n",
    "    if x < 0:\n",
    "        return 0\n",
    "    else:\n",
    "        return x ** 2\n",
    "\n",
    "\n",
    "#s=find_square(4)\n",
    "#s\n",
    "array1 = [1, 2, 3, 4, 5]\n",
    "v_func=np.vectorize(find_square)\n",
    "s=v_func(array1)\n",
    "\n",
    "print(s)\n",
    "\n",
    "end_time= time.time()\n",
    "\n",
    "print(\"total execution time is\",end_time-start_time)"
   ]
  },
  {
   "cell_type": "code",
   "execution_count": 79,
   "id": "c53d56a7-cd97-4fc3-bf39-9a29970117e5",
   "metadata": {},
   "outputs": [
    {
     "name": "stdout",
     "output_type": "stream",
     "text": [
      "[[0]\n",
      " [1]]\n"
     ]
    },
    {
     "data": {
      "text/plain": [
       "array([[32, 35, 38, 41, 44],\n",
       "       [48, 51, 54, 57, 60]])"
      ]
     },
     "execution_count": 79,
     "metadata": {},
     "output_type": "execute_result"
    }
   ],
   "source": [
    "#campatibility rules: one of them has a length of 1 or they are equal\n",
    "#check from right to left\n",
    "x=np.arange(2,22,2)\n",
    "\n",
    "#print(x)\n",
    "\n",
    "y=np.arange(30,40)\n",
    "\n",
    "w=np.arange(2)\n",
    "\n",
    "x=x.reshape(2,5)\n",
    "\n",
    "#y=y.reshape(5,2)  # cannot broadcast\n",
    "#y=y.reshape(10,1)  # cannot broadcast\n",
    "y=y.reshape(2,5)\n",
    "\n",
    "#w=w.reshape(1,2)  #cannot broadcast\n",
    "w=w.reshape(2,1)\n",
    "print(w)\n",
    "z=x+y+w\n",
    "z"
   ]
  },
  {
   "cell_type": "code",
   "execution_count": 80,
   "id": "979fc81f-95da-43e2-bf8d-00eecfe711fc",
   "metadata": {},
   "outputs": [
    {
     "name": "stdout",
     "output_type": "stream",
     "text": [
      "[False  True  True False False False False False]\n",
      "[56 88]\n"
     ]
    }
   ],
   "source": [
    "a=np.array([23,56,88,1,2,4,10,15])\n",
    "# boolean mask\n",
    "bm=a>40\n",
    "print(bm)\n",
    "print(a[bm])\n"
   ]
  },
  {
   "cell_type": "code",
   "execution_count": null,
   "id": "4ae0d3d0-e0d4-4224-9b9a-cb6921ff056a",
   "metadata": {},
   "outputs": [],
   "source": []
  }
 ],
 "metadata": {
  "kernelspec": {
   "display_name": "Python 3 (ipykernel)",
   "language": "python",
   "name": "python3"
  },
  "language_info": {
   "codemirror_mode": {
    "name": "ipython",
    "version": 3
   },
   "file_extension": ".py",
   "mimetype": "text/x-python",
   "name": "python",
   "nbconvert_exporter": "python",
   "pygments_lexer": "ipython3",
   "version": "3.12.4"
  }
 },
 "nbformat": 4,
 "nbformat_minor": 5
}
