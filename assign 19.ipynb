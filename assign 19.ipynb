{
 "cells": [
  {
   "cell_type": "code",
   "execution_count": 1,
   "id": "05439c38-2a77-4d51-b517-479c248d7fb7",
   "metadata": {},
   "outputs": [
    {
     "name": "stdout",
     "output_type": "stream",
     "text": [
      "Shape of the array: (4, 2)\n",
      "Dimensions of the array: 2\n",
      "Length of each element in bytes: 8\n"
     ]
    }
   ],
   "source": [
    "import numpy as np\n",
    "array = np.array([[1, 2], [3, 4], [5, 6], [7, 8]], dtype=int)\n",
    "\n",
    "print(\"Shape of the array:\", array.shape)\n",
    "\n",
    "print(\"Dimensions of the array:\", array.ndim)\n",
    "\n",
    "print(\"Length of each element in bytes:\", array.itemsize)"
   ]
  },
  {
   "cell_type": "code",
   "execution_count": null,
   "id": "d9df0c3d-1f3c-4653-958e-e191efbd9254",
   "metadata": {},
   "outputs": [],
   "source": []
  }
 ],
 "metadata": {
  "kernelspec": {
   "display_name": "Python 3 (ipykernel)",
   "language": "python",
   "name": "python3"
  },
  "language_info": {
   "codemirror_mode": {
    "name": "ipython",
    "version": 3
   },
   "file_extension": ".py",
   "mimetype": "text/x-python",
   "name": "python",
   "nbconvert_exporter": "python",
   "pygments_lexer": "ipython3",
   "version": "3.12.4"
  }
 },
 "nbformat": 4,
 "nbformat_minor": 5
}
