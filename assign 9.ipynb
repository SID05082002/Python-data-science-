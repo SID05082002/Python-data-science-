{
 "cells": [
  {
   "cell_type": "code",
   "execution_count": 3,
   "id": "e9ac5aff-583b-4cf4-8c3d-b5b990983b0d",
   "metadata": {},
   "outputs": [
    {
     "name": "stdin",
     "output_type": "stream",
     "text": [
      "Enter age:  66\n",
      "Enter gender (M or F):  M\n",
      "Enter marital status (Y or N):  Y\n"
     ]
    },
    {
     "name": "stdout",
     "output_type": "stream",
     "text": [
      "Place of service: ERROR\n"
     ]
    }
   ],
   "source": [
    "def determine_place_of_service(age,gender,martial_status):\n",
    "    if gender == 'F':\n",
    "        return \"urban area only\"\n",
    "    elif gender == 'M':\n",
    "        if 20<= age <=40:\n",
    "            return \"Anywhere\"\n",
    "        elif 40 < age <=60:\n",
    "            return \"Urban area only\"\n",
    "    return \"ERROR\"\n",
    "\n",
    "def main():\n",
    "    try:\n",
    "        age = int(input(\"Enter age: \"))\n",
    "        gender = input(\"Enter gender (M or F): \").strip().upper()\n",
    "        marital_status = input(\"Enter marital status (Y or N): \").strip().upper()\n",
    "        \n",
    "       \n",
    "        if gender not in ['M', 'F'] or marital_status not in ['Y', 'N']:\n",
    "            print(\"ERROR\")\n",
    "        else:\n",
    "            place_of_service = determine_place_of_service(age, gender, marital_status)\n",
    "            print(f\"Place of service: {place_of_service}\")\n",
    "    \n",
    "    except ValueError:\n",
    "        print(\"Invalid input. Age should be a number.\")\n",
    "\n",
    "if __name__ == \"__main__\":\n",
    "    main()"
   ]
  },
  {
   "cell_type": "code",
   "execution_count": null,
   "id": "312448d2-c54a-4de5-9447-b3f10ba67607",
   "metadata": {},
   "outputs": [],
   "source": []
  }
 ],
 "metadata": {
  "kernelspec": {
   "display_name": "Python 3 (ipykernel)",
   "language": "python",
   "name": "python3"
  },
  "language_info": {
   "codemirror_mode": {
    "name": "ipython",
    "version": 3
   },
   "file_extension": ".py",
   "mimetype": "text/x-python",
   "name": "python",
   "nbconvert_exporter": "python",
   "pygments_lexer": "ipython3",
   "version": "3.12.4"
  }
 },
 "nbformat": 4,
 "nbformat_minor": 5
}
