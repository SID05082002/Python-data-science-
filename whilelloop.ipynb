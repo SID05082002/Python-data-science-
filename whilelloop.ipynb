{
 "cells": [
  {
   "cell_type": "code",
   "execution_count": 10,
   "id": "2c3965e0-2f18-4219-8617-12acc760de4f",
   "metadata": {},
   "outputs": [
    {
     "name": "stdout",
     "output_type": "stream",
     "text": [
      "2\n",
      "3\n",
      "4\n",
      "5\n",
      "6\n",
      "we are out of the loop\n"
     ]
    }
   ],
   "source": [
    "x=1\n",
    "while(x<=5):\n",
    "    x=x+1\n",
    "    print(x)\n",
    "print(\"we are out of the loop\")"
   ]
  },
  {
   "cell_type": "code",
   "execution_count": 13,
   "id": "827bb09d-b8a3-460f-93bc-916dac080d3d",
   "metadata": {},
   "outputs": [
    {
     "name": "stdout",
     "output_type": "stream",
     "text": [
      "1 *\n",
      "2 *\n",
      "3 *\n",
      "4 *\n",
      "5 *\n"
     ]
    }
   ],
   "source": [
    "x=1\n",
    "while(x<6):\n",
    "    print(x,\"*\")\n",
    "    x=x+1\n",
    "    \n",
    "9    \n",
    "    "
   ]
  },
  {
   "cell_type": "code",
   "execution_count": 16,
   "id": "e240b4fc-20d2-493a-a443-78f10903f31e",
   "metadata": {},
   "outputs": [
    {
     "name": "stdin",
     "output_type": "stream",
     "text": [
      "enter value 123\n"
     ]
    }
   ],
   "source": [
    "x=int(input(\"enter value\"))"
   ]
  },
  {
   "cell_type": "code",
   "execution_count": null,
   "id": "b845ab39-89b8-4a56-82b0-8fff87dcaf8a",
   "metadata": {},
   "outputs": [],
   "source": [
    "num=(int(input(\"enter your no\")))\n",
    "while(num<10):\n",
    "    num=num+1\n",
    "    print(num)\n",
    "        "
   ]
  },
  {
   "cell_type": "code",
   "execution_count": null,
   "id": "9263d088-2482-4300-b77b-aeea1883014c",
   "metadata": {},
   "outputs": [],
   "source": [
    "num1=(int(input(\"enter your no\")))"
   ]
  },
  {
   "cell_type": "code",
   "execution_count": null,
   "id": "b6e15e21-e25c-4521-92e1-2ff77dc5d716",
   "metadata": {},
   "outputs": [],
   "source": []
  }
 ],
 "metadata": {
  "kernelspec": {
   "display_name": "Python 3 (ipykernel)",
   "language": "python",
   "name": "python3"
  },
  "language_info": {
   "codemirror_mode": {
    "name": "ipython",
    "version": 3
   },
   "file_extension": ".py",
   "mimetype": "text/x-python",
   "name": "python",
   "nbconvert_exporter": "python",
   "pygments_lexer": "ipython3",
   "version": "3.12.4"
  }
 },
 "nbformat": 4,
 "nbformat_minor": 5
}
