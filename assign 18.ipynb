{
 "cells": [
  {
   "cell_type": "code",
   "execution_count": 2,
   "id": "763cb7eb-1f12-4894-b936-c945d2c5967c",
   "metadata": {},
   "outputs": [
    {
     "name": "stdout",
     "output_type": "stream",
     "text": [
      "Data has been written to mobile_phones.csv\n"
     ]
    }
   ],
   "source": [
    "import requests\n",
    "from bs4 import BeautifulSoup\n",
    "import csv\n",
    "\n",
    "url = 'https://www.amazon.com/s?k=mobile+phone'\n",
    "\n",
    "headers = {\n",
    "    \"User-Agent\": \"Mozilla/5.0 (Windows NT 10.0; Win64; x64) AppleWebKit/537.36 (KHTML, like Gecko) Chrome/91.0.4472.124 Safari/537.36\"\n",
    "}\n",
    "response = requests.get(url, headers=headers)\n",
    "\n",
    "soup = BeautifulSoup(response.content, 'html.parser')\n",
    "\n",
    "phones = soup.find_all('div', {'data-component-type': 's-search-result'})\n",
    "\n",
    "with open('mobile_phones.csv', 'w', newline='', encoding='utf-8') as csvfile:\n",
    "    csvwriter = csv.writer(csvfile)\n",
    "    # Write the header row\n",
    "    csvwriter.writerow(['Price', 'Amount', 'Description'])\n",
    "\n",
    "    for phone in phones:\n",
    "        try:\n",
    "            description = phone.h2.text.strip()\n",
    "            \n",
    "            price_whole = phone.find('span', 'a-price-whole')\n",
    "            price_fraction = phone.find('span', 'a-price-fraction')\n",
    "            if price_whole and price_fraction:\n",
    "                price = price_whole.text + price_fraction.text\n",
    "            else:\n",
    "                price = 'N/A'\n",
    "\n",
    "            amount = phone.find('span', 'a-size-base').text.strip()\n",
    "\n",
    "            csvwriter.writerow([price, amount, description])\n",
    "        except AttributeError:\n",
    "            continue\n",
    "\n",
    "print(\"Data has been written to mobile_phones.csv\")\n"
   ]
  },
  {
   "cell_type": "code",
   "execution_count": null,
   "id": "c8bc8603-3b81-43c1-99bf-207b557699f5",
   "metadata": {},
   "outputs": [],
   "source": []
  }
 ],
 "metadata": {
  "kernelspec": {
   "display_name": "Python 3 (ipykernel)",
   "language": "python",
   "name": "python3"
  },
  "language_info": {
   "codemirror_mode": {
    "name": "ipython",
    "version": 3
   },
   "file_extension": ".py",
   "mimetype": "text/x-python",
   "name": "python",
   "nbconvert_exporter": "python",
   "pygments_lexer": "ipython3",
   "version": "3.12.4"
  }
 },
 "nbformat": 4,
 "nbformat_minor": 5
}
