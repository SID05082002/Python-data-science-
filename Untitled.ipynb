{
 "cells": [
  {
   "cell_type": "code",
   "execution_count": null,
   "id": "02ae1bc7-f128-4547-9bae-a51f02a90063",
   "metadata": {},
   "outputs": [],
   "source": []
  }
 ],
 "metadata": {
  "kernelspec": {
   "display_name": "",
   "name": ""
  },
  "language_info": {
   "name": ""
  }
 },
 "nbformat": 4,
 "nbformat_minor": 5
}
