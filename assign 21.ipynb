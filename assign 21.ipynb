{
 "cells": [
  {
   "cell_type": "code",
   "execution_count": 1,
   "id": "73fc75ba-5967-4950-b81c-cb5e275309d8",
   "metadata": {},
   "outputs": [
    {
     "name": "stdout",
     "output_type": "stream",
     "text": [
      "Memory usage of Python list: 34.33 MB\n",
      "Memory usage of NumPy array: 7.63 MB\n",
      "Size of Python list object: 8000056 bytes\n",
      "Size of NumPy array object: 8000000 bytes\n"
     ]
    }
   ],
   "source": [
    "import numpy as np\n",
    "import sys\n",
    "\n",
    "size = 1000000\n",
    "python_list = list(range(size))\n",
    "numpy_array = np.arange(size)\n",
    "\n",
    "list_size = sys.getsizeof(python_list) + sum(sys.getsizeof(item) for item in python_list)\n",
    "array_size = numpy_array.nbytes\n",
    "\n",
    "print(f\"Memory usage of Python list: {list_size / (1024 ** 2):.2f} MB\")\n",
    "print(f\"Memory usage of NumPy array: {array_size / (1024 ** 2):.2f} MB\")\n",
    "\n",
    "print(f\"Size of Python list object: {sys.getsizeof(python_list)} bytes\")\n",
    "print(f\"Size of NumPy array object: {numpy_array.nbytes} bytes\")\n"
   ]
  },
  {
   "cell_type": "code",
   "execution_count": null,
   "id": "c5421446-0fc1-4339-952e-df3782f846a9",
   "metadata": {},
   "outputs": [],
   "source": []
  }
 ],
 "metadata": {
  "kernelspec": {
   "display_name": "Python 3 (ipykernel)",
   "language": "python",
   "name": "python3"
  },
  "language_info": {
   "codemirror_mode": {
    "name": "ipython",
    "version": 3
   },
   "file_extension": ".py",
   "mimetype": "text/x-python",
   "name": "python",
   "nbconvert_exporter": "python",
   "pygments_lexer": "ipython3",
   "version": "3.12.4"
  }
 },
 "nbformat": 4,
 "nbformat_minor": 5
}
