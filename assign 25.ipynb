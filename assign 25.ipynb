{
 "cells": [
  {
   "cell_type": "code",
   "execution_count": 2,
   "id": "d8daaba3-25bc-4932-9af6-a7febdda00cd",
   "metadata": {},
   "outputs": [
    {
     "name": "stdout",
     "output_type": "stream",
     "text": [
      "            eid       stipend\n",
      "count  4.000000      4.000000\n",
      "mean   2.500000  10000.000000\n",
      "std    1.290994   4082.482905\n",
      "min    1.000000   5000.000000\n",
      "25%    1.750000   8750.000000\n",
      "50%    2.500000  10000.000000\n",
      "75%    3.250000  11250.000000\n",
      "max    4.000000  15000.000000\n"
     ]
    }
   ],
   "source": [
    "import pandas as pd\n",
    "\n",
    "data = {\n",
    "    'eid': [1, 2, 3, 4],\n",
    "    'ename': ['Sid', 'Ramesh', 'Ron', 'Harry'],\n",
    "    'stipend': [10000, 10000, 5000, 15000],\n",
    "    'position': ['employee', 'employee', 'intern', 'senior_employee']\n",
    "}\n",
    "\n",
    "df =pd.DataFrame(data)\n",
    "\n",
    "summary =df.describe()\n",
    "\n",
    "print(summary)"
   ]
  },
  {
   "cell_type": "code",
   "execution_count": null,
   "id": "0d4ea500-17f0-4e8c-866a-5b301afa83c9",
   "metadata": {},
   "outputs": [],
   "source": []
  }
 ],
 "metadata": {
  "kernelspec": {
   "display_name": "Python 3 (ipykernel)",
   "language": "python",
   "name": "python3"
  },
  "language_info": {
   "codemirror_mode": {
    "name": "ipython",
    "version": 3
   },
   "file_extension": ".py",
   "mimetype": "text/x-python",
   "name": "python",
   "nbconvert_exporter": "python",
   "pygments_lexer": "ipython3",
   "version": "3.12.4"
  }
 },
 "nbformat": 4,
 "nbformat_minor": 5
}
