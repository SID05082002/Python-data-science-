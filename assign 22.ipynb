{
 "cells": [
  {
   "cell_type": "code",
   "execution_count": 4,
   "id": "284a9128-589f-4db8-b4d0-4a08fa2de399",
   "metadata": {},
   "outputs": [
    {
     "name": "stdout",
     "output_type": "stream",
     "text": [
      "Original Series:\n",
      "0    0\n",
      "1    1\n",
      "2    2\n",
      "3    3\n",
      "4    4\n",
      "5    5\n",
      "6    6\n",
      "7    7\n",
      "8    8\n",
      "9    9\n",
      "dtype: int64\n",
      "this one is modified series\n",
      "0    0.0\n",
      "1    0.5\n",
      "2    1.0\n",
      "3    1.5\n",
      "4    2.0\n",
      "5    2.5\n",
      "6    3.0\n",
      "7    3.5\n",
      "8    4.0\n",
      "9    4.5\n",
      "dtype: float64\n"
     ]
    }
   ],
   "source": [
    "import pandas as pd \n",
    "number = range(10)\n",
    "series = pd.Series(number)\n",
    "\n",
    "print(\"Original Series:\")\n",
    "print(series)\n",
    "\n",
    "def half(x):\n",
    "    return x/2\n",
    "\n",
    "modified_series =series.apply(half)\n",
    "\n",
    "print(\"this one is modified series\")\n",
    "print(modified_series)"
   ]
  },
  {
   "cell_type": "code",
   "execution_count": null,
   "id": "b0709710-2c85-42a9-9559-ef4086866dd1",
   "metadata": {},
   "outputs": [],
   "source": []
  }
 ],
 "metadata": {
  "kernelspec": {
   "display_name": "Python 3 (ipykernel)",
   "language": "python",
   "name": "python3"
  },
  "language_info": {
   "codemirror_mode": {
    "name": "ipython",
    "version": 3
   },
   "file_extension": ".py",
   "mimetype": "text/x-python",
   "name": "python",
   "nbconvert_exporter": "python",
   "pygments_lexer": "ipython3",
   "version": "3.12.4"
  }
 },
 "nbformat": 4,
 "nbformat_minor": 5
}
