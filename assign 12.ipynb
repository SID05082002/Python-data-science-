{
 "cells": [
  {
   "cell_type": "code",
   "execution_count": 1,
   "id": "3964c8ce-5b57-4b51-843c-5c65e90566a2",
   "metadata": {},
   "outputs": [
    {
     "name": "stdout",
     "output_type": "stream",
     "text": [
      "Employee Name: Alice\n",
      "Employee Age: 30\n",
      "Employee Salary: 50000\n",
      "Employee Name: Bob\n",
      "Employee Age: 25\n",
      "Employee Salary: 9000\n"
     ]
    }
   ],
   "source": [
    "def show_employee(name, age, salary=9000):\n",
    "    print(f\"Employee Name: {name}\")\n",
    "    print(f\"Employee Age: {age}\")\n",
    "    print(f\"Employee Salary: {salary}\")\n",
    "\n",
    "show_employee(\"Alice\", 30, 50000)\n",
    "show_employee(\"Bob\", 25)\n"
   ]
  },
  {
   "cell_type": "code",
   "execution_count": null,
   "id": "0289a40d-874c-4c53-b45a-472a375df8e3",
   "metadata": {},
   "outputs": [],
   "source": []
  }
 ],
 "metadata": {
  "kernelspec": {
   "display_name": "Python 3 (ipykernel)",
   "language": "python",
   "name": "python3"
  },
  "language_info": {
   "codemirror_mode": {
    "name": "ipython",
    "version": 3
   },
   "file_extension": ".py",
   "mimetype": "text/x-python",
   "name": "python",
   "nbconvert_exporter": "python",
   "pygments_lexer": "ipython3",
   "version": "3.12.4"
  }
 },
 "nbformat": 4,
 "nbformat_minor": 5
}
