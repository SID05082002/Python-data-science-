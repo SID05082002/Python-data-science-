{
 "cells": [
  {
   "cell_type": "code",
   "execution_count": 8,
   "id": "b22f5d5c-9374-48b6-af32-25f7dff2aa10",
   "metadata": {},
   "outputs": [
    {
     "name": "stdout",
     "output_type": "stream",
     "text": [
      "this is the original statement\n",
      " Emma-is-a-data-scientist\n",
      "we are spliting the word\n",
      "Emma\n",
      "is\n",
      "a\n",
      "data\n",
      "scientist\n"
     ]
    }
   ],
   "source": [
    "str1 = \"Emma-is-a-data-scientist\"\n",
    "print(\"this is the original statement\\n\",str1)\n",
    "\n",
    "new_str = str1.split(\"-\")\n",
    "print(\"we are spliting the word\")\n",
    "for word_sub in new_str:\n",
    "    print(word_sub)"
   ]
  },
  {
   "cell_type": "code",
   "execution_count": null,
   "id": "5095c7cf-b1ef-46ea-9c29-ceae7b72c856",
   "metadata": {},
   "outputs": [],
   "source": []
  }
 ],
 "metadata": {
  "kernelspec": {
   "display_name": "Python 3 (ipykernel)",
   "language": "python",
   "name": "python3"
  },
  "language_info": {
   "codemirror_mode": {
    "name": "ipython",
    "version": 3
   },
   "file_extension": ".py",
   "mimetype": "text/x-python",
   "name": "python",
   "nbconvert_exporter": "python",
   "pygments_lexer": "ipython3",
   "version": "3.12.4"
  }
 },
 "nbformat": 4,
 "nbformat_minor": 5
}
