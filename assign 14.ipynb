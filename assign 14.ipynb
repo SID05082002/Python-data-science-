{
 "cells": [
  {
   "cell_type": "code",
   "execution_count": 1,
   "id": "92c163d2-60b2-46c8-b5c9-48d10067ec25",
   "metadata": {},
   "outputs": [
    {
     "name": "stdout",
     "output_type": "stream",
     "text": [
      "Age list: [33, 32, 30, 28, 26, 24, 23, 22, 20]\n"
     ]
    }
   ],
   "source": [
    "from datetime import datetime\n",
    "\n",
    "\n",
    "list1 = [1991, 1992, 1994, 1996, 1998, 2000, 2001, 2002, 2004]\n",
    "\n",
    "\n",
    "current_year = datetime.now().year\n",
    "\n",
    "age_list = list(map(lambda x: current_year - x, list1))\n",
    "\n",
    "print(\"Age list:\", age_list)\n"
   ]
  },
  {
   "cell_type": "code",
   "execution_count": null,
   "id": "edb6eaa9-67fe-4ce0-9bbd-267e8ba3fc1e",
   "metadata": {},
   "outputs": [],
   "source": []
  }
 ],
 "metadata": {
  "kernelspec": {
   "display_name": "Python 3 (ipykernel)",
   "language": "python",
   "name": "python3"
  },
  "language_info": {
   "codemirror_mode": {
    "name": "ipython",
    "version": 3
   },
   "file_extension": ".py",
   "mimetype": "text/x-python",
   "name": "python",
   "nbconvert_exporter": "python",
   "pygments_lexer": "ipython3",
   "version": "3.12.4"
  }
 },
 "nbformat": 4,
 "nbformat_minor": 5
}
