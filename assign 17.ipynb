{
 "cells": [
  {
   "cell_type": "code",
   "execution_count": 1,
   "id": "ef8ae09c-6c51-4984-8406-4140f1ecd1bc",
   "metadata": {},
   "outputs": [
    {
     "name": "stdout",
     "output_type": "stream",
     "text": [
      "Digits found in the string: ['123', '45678']\n"
     ]
    }
   ],
   "source": [
    "import re\n",
    "\n",
    "def find_digits(input_string):\n",
    "    \n",
    "    digit_pattern = r'\\d+'\n",
    "    \n",
    "    \n",
    "    matches = re.findall(digit_pattern, input_string)\n",
    "    \n",
    "    return matches\n",
    "\n",
    "test_string = \"The house number is 123 and the zip code is 45678.\"\n",
    "digits = find_digits(test_string)\n",
    "print(f\"Digits found in the string: {digits}\")\n"
   ]
  },
  {
   "cell_type": "code",
   "execution_count": null,
   "id": "60df2e42-f7d1-4a34-bc49-09f8b01de900",
   "metadata": {},
   "outputs": [],
   "source": []
  }
 ],
 "metadata": {
  "kernelspec": {
   "display_name": "Python 3 (ipykernel)",
   "language": "python",
   "name": "python3"
  },
  "language_info": {
   "codemirror_mode": {
    "name": "ipython",
    "version": 3
   },
   "file_extension": ".py",
   "mimetype": "text/x-python",
   "name": "python",
   "nbconvert_exporter": "python",
   "pygments_lexer": "ipython3",
   "version": "3.12.4"
  }
 },
 "nbformat": 4,
 "nbformat_minor": 5
}
