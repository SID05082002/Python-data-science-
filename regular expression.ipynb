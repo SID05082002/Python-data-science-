{
 "cells": [
  {
   "cell_type": "code",
   "execution_count": 1,
   "id": "4019deab-b53d-4adf-8070-0a38c738a98a",
   "metadata": {},
   "outputs": [
    {
     "name": "stdout",
     "output_type": "stream",
     "text": [
      "<class 're.Match'>\n",
      "Phone number found :022-456-739\n",
      "Area code is:022\n",
      "Your phone number is :456-739\n"
     ]
    }
   ],
   "source": [
    "#regular expression\n",
    "\n",
    "import re\n",
    "#to write we use .compile\n",
    "#.search is used to search my ptrn in match class \n",
    "#obj.group is used to show obj \n",
    "#r\" represents raw string \n",
    "#f. is used to shortcut to use format in different print writting pattern \n",
    "# this can be only hold one value \n",
    "msg= \"this is my number:022-456-7393\"\n",
    "\n",
    "#define the pattern \n",
    "ptrn= re.compile(r\"(\\d{3})-(\\d{3}-\\d{3})\")# classic way is to write everytime \\d\\d\\d\n",
    "#step search the pattern inside the message \n",
    "obj=ptrn.search(msg)\n",
    "print(type(obj)) #returns object of match class\n",
    "\n",
    "#step 3 \n",
    "print(f\"Phone number found :{obj.group()}\")\n",
    "\n",
    "print(f\"Area code is:{obj.group(1)}\")\n",
    "\n",
    "print(f\"Your phone number is :{obj.group(2)}\")\n",
    "\n",
    "\n",
    "\n",
    "\n",
    "\n"
   ]
  },
  {
   "cell_type": "code",
   "execution_count": 11,
   "id": "fd85acbc-8c8c-4688-b62d-2592786ad3c1",
   "metadata": {},
   "outputs": [
    {
     "name": "stdout",
     "output_type": "stream",
     "text": [
      "country found is 91\n",
      "Your mobile number is 9529611675\n"
     ]
    }
   ],
   "source": [
    "\n",
    "\n",
    "#Search +91-9529611675\n",
    "import re\n",
    "m=\"This is my number:+91-9529611675 with 91 as Indias' country code\"\n",
    "pat=re.compile(r\"(\\D)(\\d{2})-(\\d{10})\")\n",
    "obj1=pat.search(m)\n",
    "print(type(obj1))\n",
    "#obj1.group()\n",
    "print(f\"country found is {obj1.group(2)}\")\n",
    "print(f\"Your mobile number is {obj1.group(3)}\")"
   ]
  },
  {
   "cell_type": "code",
   "execution_count": 16,
   "id": "c707231b-30fc-4b09-a97c-23abb0c49048",
   "metadata": {},
   "outputs": [
    {
     "name": "stdout",
     "output_type": "stream",
     "text": [
      "you name found as :shivani\n"
     ]
    }
   ],
   "source": [
    "# Check pattern as a charchters inside the string\n",
    "# Use | (pipe) to check multiple pattern\n",
    "import re\n",
    "msg =\"my name is shivani jadhav\"\n",
    "\n",
    "ptrn=re.compile(r\"(shivani|deepak) jadhav\")\n",
    "obj=ptrn.search(msg)\n",
    "print(f\"you name found as :{obj.group(1)}\")"
   ]
  },
  {
   "cell_type": "code",
   "execution_count": 24,
   "id": "a0bd8fc2-fa4b-487a-aa13-08df44b66b8d",
   "metadata": {},
   "outputs": [
    {
     "name": "stdout",
     "output_type": "stream",
     "text": [
      "Your message found as :Superwoman\n"
     ]
    }
   ],
   "source": [
    "#Check zero or one occurances in the string\n",
    "# Use ? to check this   \n",
    "import re\n",
    "\n",
    "msg1= \"My dad is Superman\"\n",
    "msg2= \"My mom is Superwoman\"\n",
    "msg3= \"My grandma is Superwowoman\"\n",
    "msg4= \"My grandpa is Supermaman\"\n",
    "\n",
    "ptrn=re.compile(r\"Super(wo)?man\")    \n",
    "obj=ptrn.search(msg2)      # check for msg2, msg2, msg3\n",
    "#print(obj)\n",
    "print(f\"Your message found as :{obj.group()}\")"
   ]
  },
  {
   "cell_type": "code",
   "execution_count": 23,
   "id": "64c3c367-bef3-420c-90cb-ae1cd7ad096f",
   "metadata": {},
   "outputs": [
    {
     "ename": "AttributeError",
     "evalue": "'NoneType' object has no attribute 'group'",
     "output_type": "error",
     "traceback": [
      "\u001b[1;31m---------------------------------------------------------------------------\u001b[0m",
      "\u001b[1;31mAttributeError\u001b[0m                            Traceback (most recent call last)",
      "Cell \u001b[1;32mIn[23], line 13\u001b[0m\n\u001b[0;32m     11\u001b[0m obj\u001b[38;5;241m=\u001b[39mptrn\u001b[38;5;241m.\u001b[39msearch(msg4)      \u001b[38;5;66;03m# check for msg2, msg2, msg3\u001b[39;00m\n\u001b[0;32m     12\u001b[0m \u001b[38;5;66;03m#print(obj)\u001b[39;00m\n\u001b[1;32m---> 13\u001b[0m \u001b[38;5;28mprint\u001b[39m(\u001b[38;5;124mf\u001b[39m\u001b[38;5;124m\"\u001b[39m\u001b[38;5;124mYour message found as :\u001b[39m\u001b[38;5;132;01m{\u001b[39;00m\u001b[43mobj\u001b[49m\u001b[38;5;241;43m.\u001b[39;49m\u001b[43mgroup\u001b[49m()\u001b[38;5;132;01m}\u001b[39;00m\u001b[38;5;124m\"\u001b[39m)\n",
      "\u001b[1;31mAttributeError\u001b[0m: 'NoneType' object has no attribute 'group'"
     ]
    }
   ],
   "source": [
    "#Check one or more occurances in the string\n",
    "# Use * to check this   \n",
    "# range starts from 0 to multiple occurence \n",
    "import re\n",
    "\n",
    "msg1= \"My dad is Superman\"\n",
    "msg2= \"My mom is Superwoman\"\n",
    "msg3= \"My grandma is Superwowoman\"\n",
    "msg4= \"My grandpa is Supermaman\"\n",
    "\n",
    "ptrn=re.compile(r\"Super(wo)*man\")    \n",
    "obj=ptrn.search(msg4)      # check for msg2, msg2, msg3\n",
    "#print(obj)\n",
    "print(f\"Your message found as :{obj.group()}\")"
   ]
  },
  {
   "cell_type": "code",
   "execution_count": 28,
   "id": "cb3968bf-75e6-4227-b70b-81d88e17d6f0",
   "metadata": {},
   "outputs": [
    {
     "ename": "AttributeError",
     "evalue": "'NoneType' object has no attribute 'group'",
     "output_type": "error",
     "traceback": [
      "\u001b[1;31m---------------------------------------------------------------------------\u001b[0m",
      "\u001b[1;31mAttributeError\u001b[0m                            Traceback (most recent call last)",
      "Cell \u001b[1;32mIn[28], line 13\u001b[0m\n\u001b[0;32m     11\u001b[0m obj\u001b[38;5;241m=\u001b[39mptrn\u001b[38;5;241m.\u001b[39msearch(msg1)      \u001b[38;5;66;03m# check for msg2, msg2, msg3\u001b[39;00m\n\u001b[0;32m     12\u001b[0m \u001b[38;5;66;03m#print(obj)\u001b[39;00m\n\u001b[1;32m---> 13\u001b[0m \u001b[38;5;28mprint\u001b[39m(\u001b[38;5;124mf\u001b[39m\u001b[38;5;124m\"\u001b[39m\u001b[38;5;124mYour message found as :\u001b[39m\u001b[38;5;132;01m{\u001b[39;00m\u001b[43mobj\u001b[49m\u001b[38;5;241;43m.\u001b[39;49m\u001b[43mgroup\u001b[49m()\u001b[38;5;132;01m}\u001b[39;00m\u001b[38;5;124m\"\u001b[39m)\n",
      "\u001b[1;31mAttributeError\u001b[0m: 'NoneType' object has no attribute 'group'"
     ]
    }
   ],
   "source": [
    "# Use + to check this   \n",
    "# range starts from atleast 1 occurence \n",
    "import re\n",
    "\n",
    "msg1= \"My dad is Superman\"\n",
    "msg2= \"My mom is Superwoman\"\n",
    "msg3= \"My grandma is Superwowoman\"\n",
    "msg4= \"My grandpa is Supermaman\"\n",
    "\n",
    "ptrn=re.compile(r\"Super(wo)+man\")    \n",
    "obj=ptrn.search(msg1)      # check for msg2, msg2, msg3\n",
    "#print(obj)\n",
    "print(f\"Your message found as :{obj.group()}\")"
   ]
  },
  {
   "cell_type": "code",
   "execution_count": 30,
   "id": "78188c92-eb3a-42f6-b924-c952931c5073",
   "metadata": {},
   "outputs": [
    {
     "name": "stdout",
     "output_type": "stream",
     "text": [
      "<class 'list'>\n",
      "['022-456-7393', '456-777-9090', '020-234-3333', '191-952-9611']\n"
     ]
    }
   ],
   "source": [
    "# findall function\n",
    "#check multiple occurances of same pattern in the string\n",
    "msg=\" This is my number:022-456-7393 and this is my alternate number :456-777-9090, this is my parents' number :020-234-3333, this is personal number:191-952-9611\"\n",
    "msg1=\"This is message\"\n",
    "# ptrn=re.compile(r\"\\d\\d\\d-\\d\\d\\d-\\d\\d\\d\\d\")\n",
    "ptrn=re.compile(r\"\\d{3}-\\d{3}-\\d{4}\")\n",
    "list1=ptrn.findall(msg) # no need to use group, \n",
    "print(type(list1)) #it returns a list of matched pattern not object\n",
    "print(list1)"
   ]
  },
  {
   "cell_type": "code",
   "execution_count": 35,
   "id": "b64ad468-2f8d-4b55-84bb-fa9d74d5cd65",
   "metadata": {},
   "outputs": [
    {
     "name": "stdout",
     "output_type": "stream",
     "text": [
      "['12 people gives good', '10 people gives satisfactory', '6 people gives bad']\n"
     ]
    }
   ],
   "source": [
    "import re\n",
    "msg=\"12 people gives good feedback, (10 people gives satisfactory feedback, 6 people gives bad feedback\"\n",
    "ptrn=re.compile(r\"\\d+\\s[a-z]*\\s[a-z]*\\s[a-z]*\")\n",
    "list1=ptrn.findall(msg)# return output in list type of value\n",
    "print(list1)\n"
   ]
  },
  {
   "cell_type": "code",
   "execution_count": 13,
   "id": "7cc7e888-cf54-4443-8208-8d5fd3a2508a",
   "metadata": {},
   "outputs": [
    {
     "name": "stdout",
     "output_type": "stream",
     "text": [
      "['123', '67', '33']\n",
      "now adding no in sum\n",
      "total no of people in band 223\n"
     ]
    }
   ],
   "source": [
    "#mine code \n",
    "import re\n",
    "msg=\"123 pipers are piping,67 dumer playing on floor,33 dancers dancing on floor\"\n",
    "ptrn=re.compile(r\"\\d+\")\n",
    "matches = ptrn.findall(msg)\n",
    "val =0\n",
    "print(matches)\n",
    "print(\"now adding no in sum\")\n",
    "for i in matches:\n",
    "    val=val+int(i)# this is how you can instanly convert str to int \n",
    "print(\"total no of people in band\",val)\n"
   ]
  },
  {
   "cell_type": "code",
   "execution_count": 8,
   "id": "4c88c143-b9c0-4805-81d3-613aacb8e408",
   "metadata": {},
   "outputs": [
    {
     "name": "stdout",
     "output_type": "stream",
     "text": [
      "['123', '67', '33']\n",
      "223\n"
     ]
    }
   ],
   "source": [
    "#khusboo code\n",
    "msg=\"123 pipers are piping,67 dumer playing on floor,33 dancers dancing on floor\"\n",
    "\n",
    "p=re.compile(r\"\\d+\")\n",
    "x=p.findall(msg)\n",
    "print(x)\n",
    "num=0\n",
    "for i in x:\n",
    "    num=num+int(i)\n",
    "print(num)"
   ]
  },
  {
   "cell_type": "code",
   "execution_count": 14,
   "id": "bc7f769f-d6d3-4fe7-93f4-81f7b2e4b3c8",
   "metadata": {},
   "outputs": [
    {
     "name": "stdout",
     "output_type": "stream",
     "text": [
      "['31', '35', '40']\n",
      "['Ravi', 'Kishor', 'Kirti']\n",
      "this is info dictionary : {'Ravi': '31', 'Kishor': '35', 'Kirti': '40'}\n"
     ]
    }
   ],
   "source": [
    "import re\n",
    "msg='''Ravi is 31 years old\n",
    "Kishor is 35 years old\n",
    "Kirti is 40 years old'''\n",
    "\n",
    "age_ptrn=re.compile(r\"\\d+\")\n",
    "name_ptrn=re.compile(r\"[A-Z][a-z]+\")\n",
    "\n",
    "age=age_ptrn.findall(msg)\n",
    "name=name_ptrn.findall(msg)\n",
    "\n",
    "print(age)\n",
    "print(name)\n",
    "\n",
    "# we can create disctionary from this list\n",
    "# i index for name, x index for age\n",
    "info={}\n",
    "x=0\n",
    "for i in name:\n",
    "    info[i]=age[x] #dic[key]=val  ===> info[name]=age  ===>  info[i]=age[x] only value can change not the key here is the names key\n",
    "    x=x+1\n",
    "\n",
    "print(\"this is info dictionary :\",info)"
   ]
  },
  {
   "cell_type": "code",
   "execution_count": null,
   "id": "6dfde3c0-7813-428d-b7d0-18c960cf8c65",
   "metadata": {},
   "outputs": [],
   "source": []
  }
 ],
 "metadata": {
  "kernelspec": {
   "display_name": "Python 3 (ipykernel)",
   "language": "python",
   "name": "python3"
  },
  "language_info": {
   "codemirror_mode": {
    "name": "ipython",
    "version": 3
   },
   "file_extension": ".py",
   "mimetype": "text/x-python",
   "name": "python",
   "nbconvert_exporter": "python",
   "pygments_lexer": "ipython3",
   "version": "3.12.4"
  }
 },
 "nbformat": 4,
 "nbformat_minor": 5
}
