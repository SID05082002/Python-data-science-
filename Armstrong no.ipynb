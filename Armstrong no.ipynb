{
 "cells": [
  {
   "cell_type": "code",
   "execution_count": 1,
   "id": "ea528587-c336-43db-ba29-081e0c513544",
   "metadata": {},
   "outputs": [
    {
     "name": "stdin",
     "output_type": "stream",
     "text": [
      "Enter your no 56\n"
     ]
    }
   ],
   "source": [
    "num=int(input(\"Enter your no\"))"
   ]
  },
  {
   "cell_type": "code",
   "execution_count": null,
   "id": "494340d8-14c9-4ce8-abc8-f045f4dc468e",
   "metadata": {},
   "outputs": [],
   "source": [
    "num=int(input(\"Enter your no\"))\n",
    "order=len(str(num))\n",
    "sum=0\n",
    "rem=0\n",
    "for i in \n",
    "sum=sum+(rem**order)\n",
    "\n",
    "\n",
    "\n"
   ]
  },
  {
   "cell_type": "code",
   "execution_count": 2,
   "id": "f73b9205-f3dd-4b48-aa31-7af6dfa16c88",
   "metadata": {},
   "outputs": [
    {
     "name": "stdin",
     "output_type": "stream",
     "text": [
      "enter a number 56\n"
     ]
    },
    {
     "name": "stdout",
     "output_type": "stream",
     "text": [
      "56 is not an armstrong number\n"
     ]
    }
   ],
   "source": [
    "num=int(input(\"enter a number\"))\n",
    "sum=0\n",
    "temp=num\n",
    "while temp>0:\n",
    "    digit=temp% 10\n",
    "    sum+=digit**3\n",
    "    temp//=10\n",
    "if num==sum:\n",
    "    print(num,\"is an armstrong number\")\n",
    "else:\n",
    "    print(num,\"is not an armstrong number\")"
   ]
  },
  {
   "cell_type": "code",
   "execution_count": 13,
   "id": "694ce2e2-b773-4ace-962f-901ae7026af9",
   "metadata": {},
   "outputs": [
    {
     "name": "stdin",
     "output_type": "stream",
     "text": [
      "enter a number 55\n"
     ]
    },
    {
     "name": "stdout",
     "output_type": "stream",
     "text": [
      "the factorial of  55 is 1\n",
      "the factorial of  55 is 2\n",
      "the factorial of  55 is 6\n",
      "the factorial of  55 is 24\n",
      "the factorial of  55 is 120\n"
     ]
    }
   ],
   "source": [
    "num=int(input(\"enter a number\"))\n",
    "\n",
    "factorial =1\n",
    "\n",
    "if num<0:\n",
    "    print(\"sorry factorial does not exits for negative numbers\")\n",
    "elif num ==0:\n",
    "    print(\"factorial of 0 is 1\")\n",
    "else:\n",
    "    for i in range(1,6):\n",
    "        factorial=factorial*i\n",
    "        print(\"the factorial of \",num,\"is\",factorial)\n",
    "        "
   ]
  },
  {
   "cell_type": "code",
   "execution_count": null,
   "id": "7ba8a5d8-5271-4987-a7fa-1897eb21ee41",
   "metadata": {},
   "outputs": [],
   "source": [
    "num=int(input(\"enter your no\"))\n",
    "factorial =1\n"
   ]
  },
  {
   "cell_type": "code",
   "execution_count": 22,
   "id": "30102d4c-74b4-4f8d-89b6-a5503c84272e",
   "metadata": {},
   "outputs": [
    {
     "name": "stdin",
     "output_type": "stream",
     "text": [
      "enter your name koper\n",
      "enter word to be exculuded op\n"
     ]
    },
    {
     "name": "stdout",
     "output_type": "stream",
     "text": [
      "k\n",
      "o\n",
      "p\n",
      "e\n",
      "r\n",
      "you are out of the loop\n"
     ]
    }
   ],
   "source": [
    "str1=str(input(\"enter your name\"))\n",
    "c=str(input(\"enter word to be exculuded\"))\n",
    "for l in str1:\n",
    "    if(l==c):\n",
    "        pass            #continue with other letter in remaining string #break #continue\n",
    "    else:\n",
    "        print(l)\n",
    "print(\"you are out of the loop\")\n"
   ]
  },
  {
   "cell_type": "code",
   "execution_count": null,
   "id": "5bd84379-058d-48b1-abdc-14b8c7af6eb6",
   "metadata": {},
   "outputs": [],
   "source": [
    "\n"
   ]
  }
 ],
 "metadata": {
  "kernelspec": {
   "display_name": "Python 3 (ipykernel)",
   "language": "python",
   "name": "python3"
  },
  "language_info": {
   "codemirror_mode": {
    "name": "ipython",
    "version": 3
   },
   "file_extension": ".py",
   "mimetype": "text/x-python",
   "name": "python",
   "nbconvert_exporter": "python",
   "pygments_lexer": "ipython3",
   "version": "3.12.4"
  }
 },
 "nbformat": 4,
 "nbformat_minor": 5
}
