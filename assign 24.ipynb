{
 "cells": [
  {
   "cell_type": "code",
   "execution_count": 1,
   "id": "23c021eb-e625-42f3-9431-6b3e9554ef06",
   "metadata": {},
   "outputs": [
    {
     "name": "stdout",
     "output_type": "stream",
     "text": [
      "                cname  profit\n",
      "0          Shyam & Co   False\n",
      "1      Ramlal & Bros.    True\n",
      "2  Sharma Enterprises   False\n",
      "3    Verma Furnitures    True\n",
      "4        Rahul Stores    True\n"
     ]
    }
   ],
   "source": [
    "import pandas as pd\n",
    "\n",
    "data = {\n",
    "    'cname' :['Shyam & Co','Ramlal & Bros.','Sharma Enterprises','Verma Furnitures','Rahul Stores'],\n",
    "    'profit' :[-10000,10000,-5000,15000,20000]\n",
    "}\n",
    "\n",
    "df = pd.DataFrame(data)\n",
    "\n",
    "df['profit'] = df['profit']>0\n",
    "\n",
    "print(df)\n",
    "\n"
   ]
  },
  {
   "cell_type": "code",
   "execution_count": null,
   "id": "3ec7fec2-141d-4f36-9580-5aa66e167747",
   "metadata": {},
   "outputs": [],
   "source": []
  }
 ],
 "metadata": {
  "kernelspec": {
   "display_name": "Python 3 (ipykernel)",
   "language": "python",
   "name": "python3"
  },
  "language_info": {
   "codemirror_mode": {
    "name": "ipython",
    "version": 3
   },
   "file_extension": ".py",
   "mimetype": "text/x-python",
   "name": "python",
   "nbconvert_exporter": "python",
   "pygments_lexer": "ipython3",
   "version": "3.12.4"
  }
 },
 "nbformat": 4,
 "nbformat_minor": 5
}
