{
 "cells": [
  {
   "cell_type": "code",
   "execution_count": 2,
   "id": "490f1ab6-bb3d-46ca-a498-a5ea4ffccdde",
   "metadata": {},
   "outputs": [
    {
     "name": "stdout",
     "output_type": "stream",
     "text": [
      "(11, 22, [33, 444, 55], 66, 77)\n"
     ]
    }
   ],
   "source": [
    "tuple1 = (11, 22, [33, 44, 55], 66, 77)\n",
    "\n",
    "tuple1[2][1] = 444\n",
    "\n",
    "print(tuple1)\n"
   ]
  },
  {
   "cell_type": "code",
   "execution_count": null,
   "id": "d67f69d7-60fc-4188-9534-0f3bf3d92cc8",
   "metadata": {},
   "outputs": [],
   "source": []
  }
 ],
 "metadata": {
  "kernelspec": {
   "display_name": "Python 3 (ipykernel)",
   "language": "python",
   "name": "python3"
  },
  "language_info": {
   "codemirror_mode": {
    "name": "ipython",
    "version": 3
   },
   "file_extension": ".py",
   "mimetype": "text/x-python",
   "name": "python",
   "nbconvert_exporter": "python",
   "pygments_lexer": "ipython3",
   "version": "3.12.4"
  }
 },
 "nbformat": 4,
 "nbformat_minor": 5
}
