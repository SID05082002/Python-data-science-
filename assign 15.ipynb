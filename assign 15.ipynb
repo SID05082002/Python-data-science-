{
 "cells": [
  {
   "cell_type": "code",
   "execution_count": 1,
   "id": "32087e24-12eb-4102-a858-28a5dadc7728",
   "metadata": {},
   "outputs": [
    {
     "name": "stdout",
     "output_type": "stream",
     "text": [
      "Color: White, Vehicle name: School Volvo, Speed: 180, Mileage: 12\n",
      "Color: White, Vehicle name: Audi Q5, Speed: 240, Mileage: 18\n"
     ]
    }
   ],
   "source": [
    "class Vehicle:\n",
    "    color = \"White\"\n",
    "\n",
    "    def __init__(self, name, speed, mileage):\n",
    "        self.name = name\n",
    "        self.speed = speed\n",
    "        self.mileage = mileage\n",
    "\n",
    "    def display_info(self):\n",
    "        print(f\"Color: {Vehicle.color}, Vehicle name: {self.name}, Speed: {self.speed}, Mileage: {self.mileage}\")\n",
    "\n",
    "vehicle1 = Vehicle(\"School Volvo\", 180, 12)\n",
    "vehicle2 = Vehicle(\"Audi Q5\", 240, 18)\n",
    "\n",
    "vehicle1.display_info()\n",
    "vehicle2.display_info()"
   ]
  },
  {
   "cell_type": "code",
   "execution_count": null,
   "id": "79000a03-c0dc-4e06-a5f0-36ae13b4e879",
   "metadata": {},
   "outputs": [],
   "source": []
  }
 ],
 "metadata": {
  "kernelspec": {
   "display_name": "Python 3 (ipykernel)",
   "language": "python",
   "name": "python3"
  },
  "language_info": {
   "codemirror_mode": {
    "name": "ipython",
    "version": 3
   },
   "file_extension": ".py",
   "mimetype": "text/x-python",
   "name": "python",
   "nbconvert_exporter": "python",
   "pygments_lexer": "ipython3",
   "version": "3.12.4"
  }
 },
 "nbformat": 4,
 "nbformat_minor": 5
}
